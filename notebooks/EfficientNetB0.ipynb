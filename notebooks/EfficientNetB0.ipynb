{
  "nbformat": 4,
  "nbformat_minor": 0,
  "metadata": {
    "kernelspec": {
      "display_name": "Python 3",
      "language": "python",
      "name": "python3"
    },
    "language_info": {
      "codemirror_mode": {
        "name": "ipython",
        "version": 3
      },
      "file_extension": ".py",
      "mimetype": "text/x-python",
      "name": "python",
      "nbconvert_exporter": "python",
      "pygments_lexer": "ipython3",
      "version": "3.7.9"
    },
    "colab": {
      "name": "AdoptionRateClassification.ipynb",
      "provenance": [],
      "collapsed_sections": []
    },
    "accelerator": "GPU"
  },
  "cells": [
    {
      "cell_type": "code",
      "metadata": {
        "colab": {
          "base_uri": "https://localhost:8080/"
        },
        "id": "oWQg4q7QjLoS",
        "outputId": "a39d37e2-ac18-4d19-de77-f5be1d03e342"
      },
      "source": [
        "from google.colab import drive\n",
        "drive.mount('/content/drive', force_remount=True)"
      ],
      "execution_count": null,
      "outputs": [
        {
          "output_type": "stream",
          "text": [
            "Mounted at /content/drive\n"
          ],
          "name": "stdout"
        }
      ]
    },
    {
      "cell_type": "code",
      "metadata": {
        "colab": {
          "base_uri": "https://localhost:8080/"
        },
        "id": "5yAqjhUb_6NU",
        "outputId": "1906f42b-7eeb-43ed-f2f8-a93a9555e4b5"
      },
      "source": [
        "%cd /content/drive/MyDrive/Colab Notebooks/CV\n",
        "%ls\n",
        "!pip install pyunpack\n",
        "!pip install patool"
      ],
      "execution_count": null,
      "outputs": [
        {
          "output_type": "stream",
          "text": [
            "/content/drive/MyDrive/Colab Notebooks/CV\n",
            "\u001b[0m\u001b[01;34mcheckpoints\u001b[0m/  \u001b[01;34mdataset\u001b[0m/  dataset.rar\n",
            "Requirement already satisfied: pyunpack in /usr/local/lib/python3.6/dist-packages (0.2.2)\n",
            "Requirement already satisfied: easyprocess in /usr/local/lib/python3.6/dist-packages (from pyunpack) (0.3)\n",
            "Requirement already satisfied: entrypoint2 in /usr/local/lib/python3.6/dist-packages (from pyunpack) (0.2.3)\n",
            "Requirement already satisfied: argparse in /usr/local/lib/python3.6/dist-packages (from entrypoint2->pyunpack) (1.4.0)\n",
            "Requirement already satisfied: patool in /usr/local/lib/python3.6/dist-packages (1.12)\n"
          ],
          "name": "stdout"
        }
      ]
    },
    {
      "cell_type": "code",
      "metadata": {
        "id": "R8_JGFRA_vTL"
      },
      "source": [
        "# write a efficientNet model to classify adoption rate\n",
        "import numpy as np\n",
        "import pandas as pd\n",
        "import matplotlib.pyplot as plt\n",
        "import keras \n",
        "from tensorflow.keras.layers.experimental import preprocessing\n",
        "from tensorflow.keras.models import Sequential\n",
        "from tensorflow.keras import layers\n",
        "from tensorflow.keras.applications import EfficientNetB0\n",
        "import glob\n",
        "import cv2\n",
        "from tensorflow.keras.preprocessing import image_dataset_from_directory\n",
        "import tensorflow as tf\n",
        "import os\n",
        "import seaborn as sns\n"
      ],
      "execution_count": null,
      "outputs": []
    },
    {
      "cell_type": "code",
      "metadata": {
        "id": "Ja4U_2CGn-C5"
      },
      "source": [
        "# Archive('dataset.rar').extractall('/content/drive/MyDrive/Colab Notebooks/CV/')"
      ],
      "execution_count": null,
      "outputs": []
    },
    {
      "cell_type": "code",
      "metadata": {
        "id": "na_n3ldT_vTQ"
      },
      "source": [
        "INPUT_SHAPE = (224,224,3)\n",
        "IMAGE_SIZE = (224, 224)\n",
        "NUM_CLASS = 5 # [0,1,2,3,4]\n",
        "DEST_TRAIN_IMAGE_PATH = \"dataset/train\"\n",
        "DEST_TEST_IMAGE_PATH = \"dataset/test\""
      ],
      "execution_count": null,
      "outputs": []
    },
    {
      "cell_type": "code",
      "metadata": {
        "id": "snY7s6SX_vTS"
      },
      "source": [
        "img_augmentation = Sequential(\n",
        "    [\n",
        "        preprocessing.RandomRotation(factor=0.15),\n",
        "        preprocessing.RandomTranslation(height_factor=0.1, width_factor=0.1),\n",
        "        preprocessing.RandomFlip(),\n",
        "        preprocessing.RandomContrast(factor=0.1),\n",
        "    ],\n",
        "    name=\"img_augmentation\",\n",
        ")\n",
        "\n",
        "def efficientNet_model(input_shape, num_classes):\n",
        "    inputs = keras.Input(shape=input_shape)\n",
        "    x = img_augmentation(inputs)\n",
        "    eff_model = EfficientNetB0(include_top=False, weights=\"imagenet\", drop_connect_rate=0.2)(x)\n",
        "    x = layers.BatchNormalization()(eff_model)\n",
        "    x = layers.GlobalAveragePooling2D(name=\"avg_pool_final\")(x)\n",
        "    x = layers.Dense(256, activation=\"relu\", name=\"feature_extractor\")(x)\n",
        "    outputs = layers.Dense(num_classes, activation=\"softmax\", name=\"pred\")(x)\n",
        "\n",
        "    model = keras.Model(inputs, outputs, name=\"EfficientNetB0\")\n",
        "    optimizer = keras.optimizers.Adam(learning_rate=0.001)\n",
        "    model.compile(\n",
        "        optimizer=optimizer, loss=\"categorical_crossentropy\", metrics=[\"accuracy\"]\n",
        "    )\n",
        "    model.summary()\n",
        "    return model"
      ],
      "execution_count": null,
      "outputs": []
    },
    {
      "cell_type": "code",
      "metadata": {
        "id": "YTz7KSQBYOLl",
        "colab": {
          "base_uri": "https://localhost:8080/"
        },
        "outputId": "83fb47ac-2988-4e95-a17b-b6a5177447db"
      },
      "source": [
        "%cd /content/drive/MyDrive/Colab Notebooks/CV\r\n",
        "%ls"
      ],
      "execution_count": null,
      "outputs": [
        {
          "output_type": "stream",
          "text": [
            "/content/drive/MyDrive/Colab Notebooks/CV\n",
            "\u001b[0m\u001b[01;34mcheckpoints\u001b[0m/  \u001b[01;34mdataset\u001b[0m/  dataset.rar\n"
          ],
          "name": "stdout"
        }
      ]
    },
    {
      "cell_type": "code",
      "metadata": {
        "colab": {
          "base_uri": "https://localhost:8080/",
          "height": 511
        },
        "id": "_yzUZzDXP8ej",
        "outputId": "04d0f511-3b02-4871-94e1-db32b592ac47"
      },
      "source": [
        "classes_train = [0,1,2,3,4]\r\n",
        "class_train_images = []\r\n",
        "for class_name in os.listdir(DEST_TRAIN_IMAGE_PATH):\r\n",
        "    image_total = len(os.listdir(os.path.join(DEST_TRAIN_IMAGE_PATH, class_name)))\r\n",
        "    class_train_images.append(image_total)\r\n",
        "\r\n",
        "classes_test = [0,1,2,3,4]\r\n",
        "class_test_images = []\r\n",
        "for class_name in os.listdir(DEST_TEST_IMAGE_PATH):\r\n",
        "    image_total = len(os.listdir(os.path.join(DEST_TEST_IMAGE_PATH, class_name)))\r\n",
        "    class_test_images.append(image_total)\r\n",
        "    \r\n",
        "figure, ax = plt.subplots(1,2, figsize=(14,6))\r\n",
        "train_sns = sns.barplot(classes_train, class_train_images, ax=ax[0])\r\n",
        "for i, class_name in enumerate(classes_train):\r\n",
        "    train_sns.text(i, class_train_images[i], class_train_images[i], color='black', ha=\"center\")\r\n",
        "ax[0].set_title(\"Training dataset\")\r\n",
        "ax[0].set_xlabel(\"Class\")\r\n",
        "ax[0].set_ylabel(\"Number of images\")\r\n",
        "test_sns = sns.barplot(classes_test, class_test_images, ax=ax[1])\r\n",
        "for i, class_name in enumerate(classes_test):\r\n",
        "    test_sns.text(i, class_test_images[i], class_test_images[i], color='black', ha=\"center\")\r\n",
        "ax[1].set_title(\"Testing dataset\")\r\n",
        "ax[1].set_xlabel(\"Class\")\r\n",
        "ax[1].set_ylabel(\"Number of images\")"
      ],
      "execution_count": null,
      "outputs": [
        {
          "output_type": "stream",
          "text": [
            "/usr/local/lib/python3.6/dist-packages/seaborn/_decorators.py:43: FutureWarning: Pass the following variables as keyword args: x, y. From version 0.12, the only valid positional argument will be `data`, and passing other arguments without an explicit keyword will result in an error or misinterpretation.\n",
            "  FutureWarning\n",
            "/usr/local/lib/python3.6/dist-packages/seaborn/_decorators.py:43: FutureWarning: Pass the following variables as keyword args: x, y. From version 0.12, the only valid positional argument will be `data`, and passing other arguments without an explicit keyword will result in an error or misinterpretation.\n",
            "  FutureWarning\n"
          ],
          "name": "stderr"
        },
        {
          "output_type": "execute_result",
          "data": {
            "text/plain": [
              "Text(0, 0.5, 'Number of images')"
            ]
          },
          "metadata": {
            "tags": []
          },
          "execution_count": 8
        },
        {
          "output_type": "display_data",
          "data": {
            "image/png": "[encoded data removed]",
            "text/plain": [
              "<Figure size 1008x432 with 2 Axes>"
            ]
          },
          "metadata": {
            "tags": [],
            "needs_background": "light"
          }
        }
      ]
    },
    {
      "cell_type": "code",
      "metadata": {
        "colab": {
          "base_uri": "https://localhost:8080/"
        },
        "id": "l-U33gUe_vTT",
        "outputId": "fd5b52e2-21e2-4b0c-bd17-fbeaea19f847"
      },
      "source": [
        "train_ds = image_dataset_from_directory(\n",
        "    directory=\"dataset/train\",\n",
        "    labels='inferred',\n",
        "    label_mode='categorical',\n",
        "    batch_size=64,\n",
        "    image_size=IMAGE_SIZE)\n",
        "\n",
        "val_ds = image_dataset_from_directory(\n",
        "    directory='dataset/test',\n",
        "    labels='inferred',\n",
        "    label_mode='categorical',\n",
        "    batch_size=64,\n",
        "    image_size=IMAGE_SIZE)\n",
        "\n",
        "train_ds = train_ds.prefetch(buffer_size=128)\n",
        "val_ds = val_ds.prefetch(buffer_size=128)"
      ],
      "execution_count": null,
      "outputs": [
        {
          "output_type": "stream",
          "text": [
            "Found 40601 files belonging to 5 classes.\n",
            "Found 17403 files belonging to 5 classes.\n"
          ],
          "name": "stdout"
        }
      ]
    },
    {
      "cell_type": "code",
      "metadata": {
        "id": "E30bjvfq_vTU",
        "colab": {
          "base_uri": "https://localhost:8080/"
        },
        "outputId": "10281e37-c906-4e29-ac36-d6d375cb55d8"
      },
      "source": [
        "efficientNetB0_model = efficientNet_model(INPUT_SHAPE, NUM_CLASS)\n",
        "efficientNetB0_model.fit(train_ds, epochs=1, validation_data=val_ds, verbose=1)\n",
        "efficientNetB0_model.save('checkpoints/checkpoint-1.h5')"
      ],
      "execution_count": null,
      "outputs": [
        {
          "output_type": "stream",
          "text": [
            "Model: \"EfficientNetB0\"\n",
            "_________________________________________________________________\n",
            "Layer (type)                 Output Shape              Param #   \n",
            "=================================================================\n",
            "input_1 (InputLayer)         [(None, 224, 224, 3)]     0         \n",
            "_________________________________________________________________\n",
            "img_augmentation (Sequential (None, 224, 224, 3)       0         \n",
            "_________________________________________________________________\n",
            "efficientnetb0 (Functional)  (None, None, None, 1280)  4049571   \n",
            "_________________________________________________________________\n",
            "batch_normalization (BatchNo (None, 7, 7, 1280)        5120      \n",
            "_________________________________________________________________\n",
            "avg_pool_final (GlobalAverag (None, 1280)              0         \n",
            "_________________________________________________________________\n",
            "feature_extractor (Dense)    (None, 256)               327936    \n",
            "_________________________________________________________________\n",
            "pred (Dense)                 (None, 5)                 1285      \n",
            "=================================================================\n",
            "Total params: 4,383,912\n",
            "Trainable params: 4,339,329\n",
            "Non-trainable params: 44,583\n",
            "_________________________________________________________________\n",
            "635/635 [==============================] - 11118s 17s/step - loss: 1.4809 - accuracy: 0.2926 - val_loss: 1.4375 - val_accuracy: 0.3052\n"
          ],
          "name": "stdout"
        }
      ]
    },
    {
      "cell_type": "code",
      "metadata": {
        "colab": {
          "base_uri": "https://localhost:8080/"
        },
        "id": "I4A-apGPFmJe",
        "outputId": "958fe689-d7ce-4078-be2d-06951a2497f0"
      },
      "source": [
        "# reload and retrain previous model\r\n",
        "model = keras.models.load_model('checkpoints/checkpoint-20.h5')\r\n",
        "optimizer = keras.optimizers.Adam(learning_rate=0.0001)\r\n",
        "model.compile(\r\n",
        "      optimizer=optimizer, loss=\"categorical_crossentropy\", metrics=[\"accuracy\"]\r\n",
        "    )\r\n",
        "model.fit(train_ds, epochs=5, validation_data=val_ds, verbose=1)\r\n",
        "model.save('checkpoints/checkpoint-25.h5')"
      ],
      "execution_count": 17,
      "outputs": [
        {
          "output_type": "stream",
          "text": [
            "Epoch 1/5\n",
            "635/635 [==============================] - 645s 1s/step - loss: 0.9720 - accuracy: 0.6008 - val_loss: 1.5820 - val_accuracy: 0.4111\n",
            "Epoch 2/5\n",
            "635/635 [==============================] - 638s 1s/step - loss: 0.8807 - accuracy: 0.6414 - val_loss: 1.6088 - val_accuracy: 0.4119\n",
            "Epoch 3/5\n",
            "635/635 [==============================] - 637s 1s/step - loss: 0.8318 - accuracy: 0.6664 - val_loss: 1.6585 - val_accuracy: 0.4119\n",
            "Epoch 4/5\n",
            "635/635 [==============================] - 636s 999ms/step - loss: 0.8057 - accuracy: 0.6779 - val_loss: 1.6667 - val_accuracy: 0.4157\n",
            "Epoch 5/5\n",
            "635/635 [==============================] - 637s 1s/step - loss: 0.7764 - accuracy: 0.6920 - val_loss: 1.6900 - val_accuracy: 0.4223\n"
          ],
          "name": "stdout"
        }
      ]
    },
    {
      "cell_type": "code",
      "metadata": {
        "id": "3VdBciig_vTV"
      },
      "source": [
        "feature_extractor = keras.Model(\n",
        "    inputs=model.inputs,\n",
        "    outputs=model.get_layer(name=\"feature_extractor\").output\n",
        ")\n"
      ],
      "execution_count": null,
      "outputs": []
    },
    {
      "cell_type": "code",
      "metadata": {
        "id": "_90hud3C_vTV",
        "colab": {
          "base_uri": "https://localhost:8080/"
        },
        "outputId": "ddafee1f-0d58-444d-de25-114799f7ac1e"
      },
      "source": [
        "image = cv2.imread(\"dataset/test/0/0a555d688-1.jpg\")\r\n",
        "image = cv2.resize(image, IMAGE_SIZE)\r\n",
        "image = cv2.cvtColor(image, cv2.COLOR_BGR2RGB)\r\n",
        "image = np.reshape(image, (1, 224, 224, 3))\r\n",
        "features = feature_extractor(image)\r\n",
        "print(features)"
      ],
      "execution_count": 19,
      "outputs": [
        {
          "output_type": "stream",
          "text": [
            "tf.Tensor(\n",
            "[[0.         0.         0.         0.         0.         0.\n",
            "  0.         0.         0.         0.         0.         0.\n",
            "  2.0935256  0.         0.         0.         0.         0.\n",
            "  0.         0.         0.         0.         0.         0.09787618\n",
            "  0.         0.         0.26675278 0.         0.         0.\n",
            "  0.         0.         0.         0.         0.         0.\n",
            "  0.         0.         0.         0.         0.         0.\n",
            "  0.         0.         0.         0.         0.         0.\n",
            "  0.         0.         0.         0.63479793 0.         0.\n",
            "  0.46271724 0.         0.         0.         0.         0.\n",
            "  0.         0.         0.         0.         0.         0.\n",
            "  0.         0.         0.         0.         0.         0.\n",
            "  0.         0.         0.         0.         0.         0.\n",
            "  0.         0.         0.         0.         0.         0.\n",
            "  0.         0.         0.         0.         0.         0.\n",
            "  0.         0.         0.         0.         0.         0.\n",
            "  0.         0.         0.         0.         0.         0.\n",
            "  0.         0.         0.         0.         0.         0.\n",
            "  0.         0.         0.         0.         0.         0.\n",
            "  0.         0.         0.         0.         0.         1.4246583\n",
            "  0.         0.         0.         0.         0.         0.\n",
            "  0.         0.         0.         0.         0.         0.\n",
            "  1.912229   0.         0.         0.         0.         0.\n",
            "  0.         0.         0.         0.         0.         0.\n",
            "  0.         0.         0.         0.         0.         0.\n",
            "  0.         0.         0.         0.         0.         0.\n",
            "  1.53019    0.         0.         0.         0.         0.\n",
            "  0.         0.3459343  0.         0.         0.         0.\n",
            "  0.         0.         0.         0.         0.         0.\n",
            "  0.7753728  0.         0.         0.         0.         0.\n",
            "  0.         0.         0.         0.         0.         0.54702145\n",
            "  0.         0.         0.         0.         0.         0.\n",
            "  0.         0.13242583 0.         0.         0.         0.\n",
            "  0.         0.         0.         0.         0.23994642 0.\n",
            "  0.         0.         0.         0.07934649 1.4045888  0.\n",
            "  0.         0.         0.         0.         0.         0.\n",
            "  0.         0.         0.         0.         0.         0.\n",
            "  0.         0.         0.         0.         0.         0.\n",
            "  0.         0.         0.         0.         0.         0.\n",
            "  0.         0.         0.         0.         0.21821131 0.\n",
            "  0.         0.         0.         0.         0.         0.\n",
            "  0.         0.         0.         0.         0.         0.\n",
            "  1.4153959  0.         0.         0.        ]], shape=(1, 256), dtype=float32)\n"
          ],
          "name": "stdout"
        }
      ]
    },
    {
      "cell_type": "code",
      "metadata": {
        "id": "cdOKjE7l1yGK"
      },
      "source": [
        ""
      ],
      "execution_count": null,
      "outputs": []
    }
  ]
}