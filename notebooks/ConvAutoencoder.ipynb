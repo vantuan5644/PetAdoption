{
  "nbformat": 4,
  "nbformat_minor": 0,
  "metadata": {
    "kernelspec": {
      "display_name": "Python 3",
      "language": "python",
      "name": "python3"
    },
    "language_info": {
      "codemirror_mode": {
        "name": "ipython",
        "version": 3
      },
      "file_extension": ".py",
      "mimetype": "text/x-python",
      "name": "python",
      "nbconvert_exporter": "python",
      "pygments_lexer": "ipython3",
      "version": "3.7.9"
    },
    "colab": {
      "name": "ConvAutoencoder.ipynb",
      "provenance": [],
      "collapsed_sections": []
    },
    "accelerator": "GPU"
  },
  "cells": [
    {
      "cell_type": "code",
      "metadata": {
        "colab": {
          "base_uri": "https://localhost:8080/"
        },
        "id": "ZhPzfHC1qSLJ",
        "outputId": "52370206-635f-4875-f227-c72e7fd07e97"
      },
      "source": [
        "from google.colab import drive\n",
        "drive.mount('/content/drive')"
      ],
      "execution_count": 1,
      "outputs": [
        {
          "output_type": "stream",
          "text": [
            "Mounted at /content/drive\n"
          ],
          "name": "stdout"
        }
      ]
    },
    {
      "cell_type": "code",
      "metadata": {
        "colab": {
          "base_uri": "https://localhost:8080/"
        },
        "id": "wz69AD4Kqq0w",
        "outputId": "1ceec1a5-c6ab-48d7-f5e6-e2e0d95ee96f"
      },
      "source": [
        "%cd /content/drive/MyDrive/Colab Notebooks/CV"
      ],
      "execution_count": 2,
      "outputs": [
        {
          "output_type": "stream",
          "text": [
            "/content/drive/MyDrive/Colab Notebooks/CV\n"
          ],
          "name": "stdout"
        }
      ]
    },
    {
      "cell_type": "code",
      "metadata": {
        "id": "hLyB513lqNU6"
      },
      "source": [
        "# write a efficientNet model to classify adoption rate\n",
        "import numpy as np\n",
        "import pandas as pd\n",
        "import matplotlib.pyplot as plt\n",
        "import keras \n",
        "from keras import Sequential, Input\n",
        "from keras.layers import Conv2D, Dense, UpSampling2D, MaxPool2D, Conv2DTranspose\n",
        "from keras.preprocessing.image import ImageDataGenerator\n",
        "from keras.models import load_model \n",
        "import glob\n",
        "import cv2\n",
        "from tensorflow.keras.preprocessing import image_dataset_from_directory\n",
        "import tensorflow as tf\n",
        "import os"
      ],
      "execution_count": 3,
      "outputs": []
    },
    {
      "cell_type": "code",
      "metadata": {
        "id": "26AWeTJ2qNVA"
      },
      "source": [
        "INPUT_SHAPE = (256,256,3)\n",
        "INPUT_SIZE = INPUT_SHAPE[:2]\n",
        "BATCH_SIZE = 64"
      ],
      "execution_count": 4,
      "outputs": []
    },
    {
      "cell_type": "code",
      "metadata": {
        "id": "GOdJgS2_qNVA"
      },
      "source": [
        "def build_autoencoder_model():\n",
        "    model = Sequential()\n",
        "    model.add(Input(shape=INPUT_SHAPE))\n",
        "    \n",
        "    # encoder\n",
        "    model.add(Conv2D(16, 3, (1,1), activation=\"relu\", name=\"conv1-3x3x16\", padding=\"same\"))\n",
        "    model.add(MaxPool2D((2,2), padding=\"same\"))\n",
        "    model.add(Conv2D(32, 3, (1,1), activation=\"relu\", name=\"conv2-3x3x32\", padding=\"same\"))\n",
        "    model.add(MaxPool2D((2,2), padding=\"same\"))\n",
        "    model.add(Conv2D(64, 3, (1,1), activation=\"relu\", name=\"conv3-3x3x64\", padding=\"same\"))\n",
        "    model.add(MaxPool2D((2,2), padding=\"same\"))\n",
        "    model.add(Conv2D(32, 3, (1,1), activation=\"relu\", name=\"conv4-3x3x32\", padding=\"same\"))\n",
        "    model.add(MaxPool2D((2,2), padding=\"same\"))\n",
        "    model.add(Conv2D(8, 3, (1,1), activation=\"relu\", name=\"conv5-3x3x8\", padding=\"same\"))\n",
        "    model.add(MaxPool2D((2,2), padding=\"same\"))\n",
        "    \n",
        "    # decoder\n",
        "    model.add(Conv2D(8, 3, (1,1), activation=\"relu\", name=\"conv6-3x3x8\", padding=\"same\"))\n",
        "    model.add(UpSampling2D())\n",
        "    model.add(Conv2D(32, 3, (1,1), activation=\"relu\", name=\"conv7-3x3x32\", padding=\"same\"))\n",
        "    model.add(UpSampling2D())\n",
        "    model.add(Conv2D(64, 3, (1,1), activation=\"relu\", name=\"conv8-3x3x64\", padding=\"same\"))\n",
        "    model.add(UpSampling2D())\n",
        "    model.add(Conv2D(32, 3, (1,1), activation=\"relu\", name=\"conv9-3x3x32\", padding=\"same\"))\n",
        "    model.add(UpSampling2D())\n",
        "    model.add(Conv2D(16, 3, (1,1), activation=\"relu\", name=\"conv10-3x3x16\", padding=\"same\"))\n",
        "    model.add(UpSampling2D())\n",
        "    model.add(Conv2D(3, 3, (1,1), activation=\"relu\", name=\"conv11-3x3x1\", padding=\"same\"))\n",
        "    return model"
      ],
      "execution_count": 5,
      "outputs": []
    },
    {
      "cell_type": "code",
      "metadata": {
        "colab": {
          "base_uri": "https://localhost:8080/"
        },
        "id": "lHCyg-L5qNVB",
        "outputId": "44789e1e-28c4-4e6a-b2fd-1621ab0d9bd1"
      },
      "source": [
        "model = build_autoencoder_model()\n",
        "model.compile(optimizer=\"adam\", loss=keras.losses.MeanSquaredError())\n",
        "model.summary()"
      ],
      "execution_count": 6,
      "outputs": [
        {
          "output_type": "stream",
          "text": [
            "Model: \"sequential\"\n",
            "_________________________________________________________________\n",
            "Layer (type)                 Output Shape              Param #   \n",
            "=================================================================\n",
            "conv1-3x3x16 (Conv2D)        (None, 256, 256, 16)      448       \n",
            "_________________________________________________________________\n",
            "max_pooling2d (MaxPooling2D) (None, 128, 128, 16)      0         \n",
            "_________________________________________________________________\n",
            "conv2-3x3x32 (Conv2D)        (None, 128, 128, 32)      4640      \n",
            "_________________________________________________________________\n",
            "max_pooling2d_1 (MaxPooling2 (None, 64, 64, 32)        0         \n",
            "_________________________________________________________________\n",
            "conv3-3x3x64 (Conv2D)        (None, 64, 64, 64)        18496     \n",
            "_________________________________________________________________\n",
            "max_pooling2d_2 (MaxPooling2 (None, 32, 32, 64)        0         \n",
            "_________________________________________________________________\n",
            "conv4-3x3x32 (Conv2D)        (None, 32, 32, 32)        18464     \n",
            "_________________________________________________________________\n",
            "max_pooling2d_3 (MaxPooling2 (None, 16, 16, 32)        0         \n",
            "_________________________________________________________________\n",
            "conv5-3x3x8 (Conv2D)         (None, 16, 16, 8)         2312      \n",
            "_________________________________________________________________\n",
            "max_pooling2d_4 (MaxPooling2 (None, 8, 8, 8)           0         \n",
            "_________________________________________________________________\n",
            "conv6-3x3x8 (Conv2D)         (None, 8, 8, 8)           584       \n",
            "_________________________________________________________________\n",
            "up_sampling2d (UpSampling2D) (None, 16, 16, 8)         0         \n",
            "_________________________________________________________________\n",
            "conv7-3x3x32 (Conv2D)        (None, 16, 16, 32)        2336      \n",
            "_________________________________________________________________\n",
            "up_sampling2d_1 (UpSampling2 (None, 32, 32, 32)        0         \n",
            "_________________________________________________________________\n",
            "conv8-3x3x64 (Conv2D)        (None, 32, 32, 64)        18496     \n",
            "_________________________________________________________________\n",
            "up_sampling2d_2 (UpSampling2 (None, 64, 64, 64)        0         \n",
            "_________________________________________________________________\n",
            "conv9-3x3x32 (Conv2D)        (None, 64, 64, 32)        18464     \n",
            "_________________________________________________________________\n",
            "up_sampling2d_3 (UpSampling2 (None, 128, 128, 32)      0         \n",
            "_________________________________________________________________\n",
            "conv10-3x3x16 (Conv2D)       (None, 128, 128, 16)      4624      \n",
            "_________________________________________________________________\n",
            "up_sampling2d_4 (UpSampling2 (None, 256, 256, 16)      0         \n",
            "_________________________________________________________________\n",
            "conv11-3x3x1 (Conv2D)        (None, 256, 256, 3)       435       \n",
            "=================================================================\n",
            "Total params: 89,299\n",
            "Trainable params: 89,299\n",
            "Non-trainable params: 0\n",
            "_________________________________________________________________\n"
          ],
          "name": "stdout"
        }
      ]
    },
    {
      "cell_type": "code",
      "metadata": {
        "colab": {
          "base_uri": "https://localhost:8080/"
        },
        "id": "zE9aYTRJqNVC",
        "outputId": "1951b871-4e6a-43de-f7c0-a46c1aafeaf1"
      },
      "source": [
        "# load data\n",
        "datagen = ImageDataGenerator(rescale=1.0/255.0)\n",
        "train_it = datagen.flow_from_directory(\"dataset/train/\", class_mode=\"input\", batch_size=BATCH_SIZE, target_size=(256,256))\n",
        "test_it = datagen.flow_from_directory(\"dataset/test/\", class_mode=\"input\", batch_size=BATCH_SIZE, target_size=(256,256))"
      ],
      "execution_count": 7,
      "outputs": [
        {
          "output_type": "stream",
          "text": [
            "Found 40510 images belonging to 5 classes.\n",
            "Found 17494 images belonging to 5 classes.\n"
          ],
          "name": "stdout"
        }
      ]
    },
    {
      "cell_type": "code",
      "metadata": {
        "id": "R2j7kMntqNVC"
      },
      "source": [
        "history = model.fit(train_it, epochs=100, verbose=1, validation_data=test_it)\r\n",
        "model.save(\"checkpoints/autoencoder/model.100.epochs\")"
      ],
      "execution_count": null,
      "outputs": []
    },
    {
      "cell_type": "code",
      "metadata": {
        "id": "GoP0qs3TdNJB"
      },
      "source": [
        "print(history.history.keys())\r\n",
        "# summarize history for loss\r\n",
        "plt.plot(np.arange(1,100), history.history['loss'])\r\n",
        "plt.plot(np.arange(1,100), history.history['val_loss'])\r\n",
        "plt.title('model loss')\r\n",
        "plt.ylabel('loss')\r\n",
        "plt.xlabel('epoch')\r\n",
        "plt.legend(['train', 'test'], loc='upper left')\r\n",
        "plt.savefig(\"checkpoints/autoencoder/loss_1-100 epochs.png\")\r\n",
        "plt.show()"
      ],
      "execution_count": null,
      "outputs": []
    },
    {
      "cell_type": "code",
      "metadata": {
        "id": "cW9FsrC6qNVD"
      },
      "source": [
        "# reload and re-train autoencoder model\r\n",
        "# model = load_model(\"checkpoints/autoencoder/model.10.epochs\")\r\n",
        "# model.fit(train_it, epochs=10, verbose=1, validation_data=test_it)\r\n",
        "# model.save(\"checkpoints/autoencoder/model.20.epochs\")"
      ],
      "execution_count": null,
      "outputs": []
    },
    {
      "cell_type": "markdown",
      "metadata": {
        "id": "3C2M8EhyB1br"
      },
      "source": [
        ""
      ]
    },
    {
      "cell_type": "code",
      "metadata": {
        "id": "eFPrzXYkBvmO"
      },
      "source": [
        ""
      ],
      "execution_count": null,
      "outputs": []
    }
  ]
}