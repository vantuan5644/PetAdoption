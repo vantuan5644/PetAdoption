{
  "nbformat": 4,
  "nbformat_minor": 0,
  "metadata": {
    "kernelspec": {
      "language": "python",
      "display_name": "Python 3",
      "name": "python3"
    },
    "language_info": {
      "name": "python",
      "version": "3.7.9",
      "mimetype": "text/x-python",
      "codemirror_mode": {
        "name": "ipython",
        "version": 3
      },
      "pygments_lexer": "ipython3",
      "nbconvert_exporter": "python",
      "file_extension": ".py"
    },
    "colab": {
      "name": "petfinder.ipynb",
      "provenance": [],
      "collapsed_sections": [
        "sZ41r-AAnBco"
      ]
    },
    "accelerator": "GPU"
  },
  "cells": [
    {
      "cell_type": "code",
      "metadata": {
        "colab": {
          "base_uri": "https://localhost:8080/"
        },
        "id": "iBDLO2K_lPgq",
        "outputId": "8c86ffb0-e7c7-4b9a-f90d-080cd978913e"
      },
      "source": [
        "from google.colab import drive\n",
        "drive.mount('/content/drive')"
      ],
      "execution_count": 1,
      "outputs": [
        {
          "output_type": "stream",
          "text": [
            "Mounted at /content/drive\n"
          ],
          "name": "stdout"
        }
      ]
    },
    {
      "cell_type": "code",
      "metadata": {
        "colab": {
          "base_uri": "https://localhost:8080/"
        },
        "id": "5D6Z64TCnPgF",
        "outputId": "140029ee-d0e5-473b-afa4-9a5fc27be970"
      },
      "source": [
        "%cd /content"
      ],
      "execution_count": 45,
      "outputs": [
        {
          "output_type": "stream",
          "text": [
            "/content\n"
          ],
          "name": "stdout"
        }
      ]
    },
    {
      "cell_type": "code",
      "metadata": {
        "id": "A6ON0ynZlcHX"
      },
      "source": [
        "!cp -r /content/drive/MyDrive/petfinder ./"
      ],
      "execution_count": 46,
      "outputs": []
    },
    {
      "cell_type": "code",
      "metadata": {
        "colab": {
          "base_uri": "https://localhost:8080/"
        },
        "id": "b6WFtmnonZTP",
        "outputId": "67d96346-6cc0-4978-a71d-ccc789f3d017"
      },
      "source": [
        "%cd petfinder"
      ],
      "execution_count": 47,
      "outputs": [
        {
          "output_type": "stream",
          "text": [
            "/content/petfinder\n"
          ],
          "name": "stdout"
        }
      ]
    },
    {
      "cell_type": "code",
      "metadata": {
        "id": "6TLFzWGzloB1"
      },
      "source": [
        "!unzip -qq petfinder-adoption-prediction.zip"
      ],
      "execution_count": 4,
      "outputs": []
    },
    {
      "cell_type": "code",
      "metadata": {
        "colab": {
          "base_uri": "https://localhost:8080/"
        },
        "id": "oCHkL5XtKHOc",
        "outputId": "2326dbd7-eacb-4bbd-dd2d-69a38b3e5ba0"
      },
      "source": [
        "!unzip -qq /content/petfinder/glove.840B.300d.txt.zip"
      ],
      "execution_count": 10,
      "outputs": [
        {
          "output_type": "stream",
          "text": [
            "replace glove.840B.300d.txt? [y]es, [n]o, [A]ll, [N]one, [r]ename: A\n"
          ],
          "name": "stdout"
        }
      ]
    },
    {
      "cell_type": "code",
      "metadata": {
        "id": "pGdqmZ3YnTMB"
      },
      "source": [
        "!unzip -qq /content/petfinder/archive.zip"
      ],
      "execution_count": 48,
      "outputs": []
    },
    {
      "cell_type": "code",
      "metadata": {
        "_uuid": "8f2839f25d086af736a60e9eeb907d3b93b6e0e5",
        "_cell_guid": "b1076dfc-b9ad-4769-8c92-a6c4dae69d19",
        "trusted": true,
        "id": "2l4_okFGhqK_"
      },
      "source": [
        "import cv2\n",
        "import pandas as pd\n",
        "import numpy as np\n",
        "import os\n",
        "from tqdm import tqdm, tqdm_notebook\n",
        "import matplotlib.pyplot as plt\n",
        "from keras.applications.resnet import preprocess_input, ResNet101\n",
        "from keras.utils import to_categorical\n",
        "from dataset import My_Custom_Generator"
      ],
      "execution_count": 49,
      "outputs": []
    },
    {
      "cell_type": "code",
      "metadata": {
        "trusted": true,
        "colab": {
          "base_uri": "https://localhost:8080/",
          "height": 200
        },
        "id": "IvB-MPxehqLE",
        "outputId": "fab74d53-ea4c-4b47-8028-a0b08a9642c1"
      },
      "source": [
        "path = 'train/train.csv'\n",
        "df_pet = pd.read_csv(path)\n",
        "df = df_pet[['PetID','PhotoAmt','AdoptionSpeed','Description']]\n",
        "df = df[df['PhotoAmt']>0]\n",
        "df.head()"
      ],
      "execution_count": 50,
      "outputs": [
        {
          "output_type": "execute_result",
          "data": {
            "text/html": [
              "<div>\n",
              "<style scoped>\n",
              "    .dataframe tbody tr th:only-of-type {\n",
              "        vertical-align: middle;\n",
              "    }\n",
              "\n",
              "    .dataframe tbody tr th {\n",
              "        vertical-align: top;\n",
              "    }\n",
              "\n",
              "    .dataframe thead th {\n",
              "        text-align: right;\n",
              "    }\n",
              "</style>\n",
              "<table border=\"1\" class=\"dataframe\">\n",
              "  <thead>\n",
              "    <tr style=\"text-align: right;\">\n",
              "      <th></th>\n",
              "      <th>PetID</th>\n",
              "      <th>PhotoAmt</th>\n",
              "      <th>AdoptionSpeed</th>\n",
              "      <th>Description</th>\n",
              "    </tr>\n",
              "  </thead>\n",
              "  <tbody>\n",
              "    <tr>\n",
              "      <th>0</th>\n",
              "      <td>86e1089a3</td>\n",
              "      <td>1.0</td>\n",
              "      <td>2</td>\n",
              "      <td>Nibble is a 3+ month old ball of cuteness. He ...</td>\n",
              "    </tr>\n",
              "    <tr>\n",
              "      <th>1</th>\n",
              "      <td>6296e909a</td>\n",
              "      <td>2.0</td>\n",
              "      <td>0</td>\n",
              "      <td>I just found it alone yesterday near my apartm...</td>\n",
              "    </tr>\n",
              "    <tr>\n",
              "      <th>2</th>\n",
              "      <td>3422e4906</td>\n",
              "      <td>7.0</td>\n",
              "      <td>3</td>\n",
              "      <td>Their pregnant mother was dumped by her irresp...</td>\n",
              "    </tr>\n",
              "    <tr>\n",
              "      <th>3</th>\n",
              "      <td>5842f1ff5</td>\n",
              "      <td>8.0</td>\n",
              "      <td>2</td>\n",
              "      <td>Good guard dog, very alert, active, obedience ...</td>\n",
              "    </tr>\n",
              "    <tr>\n",
              "      <th>4</th>\n",
              "      <td>850a43f90</td>\n",
              "      <td>3.0</td>\n",
              "      <td>2</td>\n",
              "      <td>This handsome yet cute boy is up for adoption....</td>\n",
              "    </tr>\n",
              "  </tbody>\n",
              "</table>\n",
              "</div>"
            ],
            "text/plain": [
              "       PetID  ...                                        Description\n",
              "0  86e1089a3  ...  Nibble is a 3+ month old ball of cuteness. He ...\n",
              "1  6296e909a  ...  I just found it alone yesterday near my apartm...\n",
              "2  3422e4906  ...  Their pregnant mother was dumped by her irresp...\n",
              "3  5842f1ff5  ...  Good guard dog, very alert, active, obedience ...\n",
              "4  850a43f90  ...  This handsome yet cute boy is up for adoption....\n",
              "\n",
              "[5 rows x 4 columns]"
            ]
          },
          "metadata": {
            "tags": []
          },
          "execution_count": 50
        }
      ]
    },
    {
      "cell_type": "code",
      "metadata": {
        "trusted": true,
        "colab": {
          "base_uri": "https://localhost:8080/",
          "height": 278
        },
        "id": "vGCVdRsshqLI",
        "outputId": "b6887875-d15a-4e0a-8ba3-7763dd4c3ee6"
      },
      "source": [
        "df['AdoptionSpeed'].value_counts().plot(kind='bar')\n",
        "plt.title(\"Distrubition of label\")\n",
        "plt.show()"
      ],
      "execution_count": 51,
      "outputs": [
        {
          "output_type": "display_data",
          "data": {
            "image/png": "[encoded data removed]",
            "text/plain": [
              "<Figure size 432x288 with 1 Axes>"
            ]
          },
          "metadata": {
            "tags": [],
            "needs_background": "light"
          }
        }
      ]
    },
    {
      "cell_type": "markdown",
      "metadata": {
        "id": "sZ41r-AAnBco"
      },
      "source": [
        "# CV"
      ]
    },
    {
      "cell_type": "code",
      "metadata": {
        "trusted": true,
        "id": "5NwIBBi4hqLJ"
      },
      "source": [
        "def resize_to_square(im):\n",
        "    old_size = im.shape[:2] # old_size is in (height, width) format\n",
        "    ratio = float(img_size)/max(old_size)\n",
        "    new_size = tuple([int(x*ratio) for x in old_size])\n",
        "    # new_size should be in (width, height) format\n",
        "    im = cv2.resize(im, (new_size[1], new_size[0]))\n",
        "    delta_w = img_size - new_size[1]\n",
        "    delta_h = img_size - new_size[0]\n",
        "    top, bottom = delta_h//2, delta_h-(delta_h//2)\n",
        "    left, right = delta_w//2, delta_w-(delta_w//2)\n",
        "    color = [0, 0, 0]\n",
        "    new_im = cv2.copyMakeBorder(im, top, bottom, left, right, cv2.BORDER_CONSTANT,value=color)\n",
        "    return new_im\n",
        "\n",
        "def load_image(path, pet_id):\n",
        "    image = cv2.imread(f'{path}{pet_id}-1.jpg')\n",
        "    new_image = resize_to_square(image)\n",
        "    new_image = preprocess_input(new_image)\n",
        "    return new_image\n"
      ],
      "execution_count": 10,
      "outputs": []
    },
    {
      "cell_type": "code",
      "metadata": {
        "trusted": true,
        "id": "Lgpi-vZghqLL"
      },
      "source": [
        "# img_size = 256\n",
        "# batch_size = 16\n"
      ],
      "execution_count": null,
      "outputs": []
    },
    {
      "cell_type": "code",
      "metadata": {
        "trusted": true,
        "id": "8eqkYduIhqLM"
      },
      "source": [
        "# pet_ids = df['PetID'].values\n",
        "# n_batches = len(pet_ids) // batch_size + 1"
      ],
      "execution_count": null,
      "outputs": []
    },
    {
      "cell_type": "code",
      "metadata": {
        "trusted": true,
        "id": "m-fPFf-shqLN"
      },
      "source": [
        "X = []\n",
        "y = []\n",
        "# max_images = 100\n",
        "for index, row in df.iterrows():\n",
        "    # img = load_image(\"train_images/\", row['PetID'])\n",
        "    for count in range(int(row['PhotoAmt'])):\n",
        "      name = f\"{row['PetID']}-{count+1}.jpg\"\n",
        "      imgName = os.path.join(\"train_images/\", name)\n",
        "      X.append(imgName)\n",
        "      y.append(row['AdoptionSpeed'])\n",
        "    # if index > max_images:\n",
        "    #     break\n"
      ],
      "execution_count": 11,
      "outputs": []
    },
    {
      "cell_type": "code",
      "metadata": {
        "colab": {
          "base_uri": "https://localhost:8080/"
        },
        "id": "EfM-NoCdnwv-",
        "outputId": "5b219e43-e112-404a-f7ad-35fd793d65c9"
      },
      "source": [
        "len(X)"
      ],
      "execution_count": 12,
      "outputs": [
        {
          "output_type": "execute_result",
          "data": {
            "text/plain": [
              "58311"
            ]
          },
          "metadata": {
            "tags": []
          },
          "execution_count": 12
        }
      ]
    },
    {
      "cell_type": "code",
      "metadata": {
        "trusted": true,
        "colab": {
          "base_uri": "https://localhost:8080/"
        },
        "id": "TZxT0lXghqLN",
        "outputId": "a6b1ae11-700e-4160-c102-cef492f1822d"
      },
      "source": [
        "from sklearn.model_selection import train_test_split\n",
        "x_train, x_val, y_train, y_val = train_test_split(X, y, test_size=0.33, random_state=42)\n",
        "\n",
        "batch_size = 32\n",
        "y_train = to_categorical(y_train)\n",
        "y_val = to_categorical(y_val)\n",
        "\n",
        "my_training_batch_generator = My_Custom_Generator(x_train, y_train, batch_size)\n",
        "my_validation_batch_generator = My_Custom_Generator(x_val, y_val, batch_size)\n",
        "print(my_validation_batch_generator)"
      ],
      "execution_count": 13,
      "outputs": [
        {
          "output_type": "stream",
          "text": [
            "<dataset.My_Custom_Generator object at 0x7f021b601240>\n"
          ],
          "name": "stdout"
        }
      ]
    },
    {
      "cell_type": "code",
      "metadata": {
        "trusted": true,
        "id": "R_3UlOrOhqLP"
      },
      "source": [
        "from keras.models import Model\n",
        "from keras.layers import GlobalAveragePooling2D, Input, Lambda, AveragePooling1D, Dense, Conv2D, MaxPooling2D\n",
        "import keras.backend as K\n",
        "import keras\n",
        "epochs = 100\n",
        "lr = 0.0001\n",
        "decay_rate = lr / epochs\n",
        "n_classes = 5\n",
        "inp = Input((256,256,3))\n",
        "\n",
        "x = Conv2D(128, (3, 3), activation='relu', padding='same')(inp)\n",
        "x = MaxPooling2D((2, 2), padding='same')(x)\n",
        "x = Conv2D(64, (3, 3), activation='relu', padding='same')(x)\n",
        "x = MaxPooling2D((2, 2), padding='same')(x)\n",
        "x = Conv2D(3, (3, 3), activation='relu', padding='same')(x)\n",
        "encoded = MaxPooling2D((2, 2), padding='same')(x)\n",
        "backbone = ResNet101(include_top = False, weights=\"imagenet\")(encoded)\n",
        "# for layer in backbone.layers:\n",
        "#     layer.trainable = False\n",
        "x = GlobalAveragePooling2D()(backbone)\n",
        "x = Dense(4096)(x)\n",
        "x = Dense(4096)(x)\n",
        "out = Dense(n_classes, activation='softmax')(x)\n",
        "m = Model(inp,out)\n",
        "\n",
        "m.compile(loss='categorical_crossentropy', optimizer=keras.optimizers.Adam(learning_rate=lr, decay=decay_rate), metrics= 'accuracy')"
      ],
      "execution_count": 38,
      "outputs": []
    },
    {
      "cell_type": "code",
      "metadata": {
        "trusted": true,
        "id": "mYNQSJAThqLP",
        "colab": {
          "base_uri": "https://localhost:8080/"
        },
        "outputId": "ecb720e6-bcb1-4bf2-e5a9-59293adae774"
      },
      "source": [
        "m.summary()"
      ],
      "execution_count": 39,
      "outputs": [
        {
          "output_type": "stream",
          "text": [
            "Model: \"model_15\"\n",
            "_________________________________________________________________\n",
            "Layer (type)                 Output Shape              Param #   \n",
            "=================================================================\n",
            "input_28 (InputLayer)        [(None, 256, 256, 3)]     0         \n",
            "_________________________________________________________________\n",
            "conv2d_57 (Conv2D)           (None, 256, 256, 128)     3584      \n",
            "_________________________________________________________________\n",
            "max_pooling2d_57 (MaxPooling (None, 128, 128, 128)     0         \n",
            "_________________________________________________________________\n",
            "conv2d_58 (Conv2D)           (None, 128, 128, 64)      73792     \n",
            "_________________________________________________________________\n",
            "max_pooling2d_58 (MaxPooling (None, 64, 64, 64)        0         \n",
            "_________________________________________________________________\n",
            "conv2d_59 (Conv2D)           (None, 64, 64, 3)         1731      \n",
            "_________________________________________________________________\n",
            "max_pooling2d_59 (MaxPooling (None, 32, 32, 3)         0         \n",
            "_________________________________________________________________\n",
            "resnet101 (Functional)       (None, None, None, 2048)  42658176  \n",
            "_________________________________________________________________\n",
            "global_average_pooling2d_3 ( (None, 2048)              0         \n",
            "_________________________________________________________________\n",
            "dense_9 (Dense)              (None, 4096)              8392704   \n",
            "_________________________________________________________________\n",
            "dense_10 (Dense)             (None, 4096)              16781312  \n",
            "_________________________________________________________________\n",
            "dense_11 (Dense)             (None, 5)                 20485     \n",
            "=================================================================\n",
            "Total params: 67,931,784\n",
            "Trainable params: 67,826,440\n",
            "Non-trainable params: 105,344\n",
            "_________________________________________________________________\n"
          ],
          "name": "stdout"
        }
      ]
    },
    {
      "cell_type": "code",
      "metadata": {
        "trusted": true,
        "colab": {
          "base_uri": "https://localhost:8080/",
          "height": 0
        },
        "id": "oUj9eDbVhqLQ",
        "outputId": "bee90e35-2036-4dc4-ac5b-953f220fc448"
      },
      "source": [
        "from keras.callbacks import ModelCheckpoint\n",
        "\n",
        "\n",
        "filepath=\"/content/drive/MyDrive/petfinder/weights\"\n",
        "checkpoint = ModelCheckpoint(filepath, monitor='val_accuracy', verbose=1, save_best_only=True, mode='max')\n",
        "callbacks_list = [checkpoint]\n",
        "\n",
        "m.fit_generator(generator = my_training_batch_generator,\n",
        "                steps_per_epoch = int(3800 // batch_size),\n",
        "                epochs=epochs, \n",
        "                validation_data = my_validation_batch_generator,\n",
        "                validation_steps = int(950 // batch_size),\n",
        "                callbacks=callbacks_list)"
      ],
      "execution_count": 40,
      "outputs": [
        {
          "output_type": "stream",
          "text": [
            "/usr/local/lib/python3.6/dist-packages/tensorflow/python/keras/engine/training.py:1844: UserWarning: `Model.fit_generator` is deprecated and will be removed in a future version. Please use `Model.fit`, which supports generators.\n",
            "  warnings.warn('`Model.fit_generator` is deprecated and '\n"
          ],
          "name": "stderr"
        },
        {
          "output_type": "stream",
          "text": [
            "Epoch 1/100\n",
            "118/118 [==============================] - 143s 1s/step - loss: 2.9604 - accuracy: 0.2213 - val_loss: 150.0901 - val_accuracy: 0.1832\n",
            "\n",
            "Epoch 00001: val_accuracy improved from -inf to 0.18319, saving model to /content/drive/MyDrive/petfinder/weights\n",
            "INFO:tensorflow:Assets written to: /content/drive/MyDrive/petfinder/weights/assets\n",
            "Epoch 2/100\n",
            "118/118 [==============================] - 133s 1s/step - loss: 2.0895 - accuracy: 0.2590 - val_loss: 7488.6030 - val_accuracy: 0.3028\n",
            "\n",
            "Epoch 00002: val_accuracy improved from 0.18319 to 0.30280, saving model to /content/drive/MyDrive/petfinder/weights\n",
            "INFO:tensorflow:Assets written to: /content/drive/MyDrive/petfinder/weights/assets\n",
            "Epoch 3/100\n",
            "118/118 [==============================] - 132s 1s/step - loss: 1.9428 - accuracy: 0.2408 - val_loss: 19875.1602 - val_accuracy: 0.2694\n",
            "\n",
            "Epoch 00003: val_accuracy did not improve from 0.30280\n",
            "Epoch 4/100\n",
            "118/118 [==============================] - 129s 1s/step - loss: 1.5473 - accuracy: 0.2658 - val_loss: 41255.1289 - val_accuracy: 0.3028\n",
            "\n",
            "Epoch 00004: val_accuracy did not improve from 0.30280\n",
            "Epoch 5/100\n",
            "118/118 [==============================] - 130s 1s/step - loss: 1.5392 - accuracy: 0.2763 - val_loss: 31185.1289 - val_accuracy: 0.3028\n",
            "\n",
            "Epoch 00005: val_accuracy did not improve from 0.30280\n",
            "Epoch 6/100\n",
            "118/118 [==============================] - 128s 1s/step - loss: 1.5522 - accuracy: 0.2785 - val_loss: 16374.0137 - val_accuracy: 0.3028\n",
            "\n",
            "Epoch 00006: val_accuracy did not improve from 0.30280\n",
            "Epoch 7/100\n",
            "118/118 [==============================] - 129s 1s/step - loss: 1.5341 - accuracy: 0.2699 - val_loss: 40628.9609 - val_accuracy: 0.3028\n",
            "\n",
            "Epoch 00007: val_accuracy did not improve from 0.30280\n",
            "Epoch 8/100\n",
            "118/118 [==============================] - 129s 1s/step - loss: 1.5139 - accuracy: 0.2821 - val_loss: 30181.7500 - val_accuracy: 0.3028\n",
            "\n",
            "Epoch 00008: val_accuracy did not improve from 0.30280\n",
            "Epoch 9/100\n",
            "118/118 [==============================] - 128s 1s/step - loss: 1.4945 - accuracy: 0.2792 - val_loss: 25675.5684 - val_accuracy: 0.3028\n",
            "\n",
            "Epoch 00009: val_accuracy did not improve from 0.30280\n",
            "Epoch 10/100\n",
            "118/118 [==============================] - 127s 1s/step - loss: 1.4854 - accuracy: 0.2747 - val_loss: 39202.7617 - val_accuracy: 0.2694\n",
            "\n",
            "Epoch 00010: val_accuracy did not improve from 0.30280\n",
            "Epoch 11/100\n",
            "118/118 [==============================] - 127s 1s/step - loss: 1.4843 - accuracy: 0.2598 - val_loss: 13104.0801 - val_accuracy: 0.1832\n",
            "\n",
            "Epoch 00011: val_accuracy did not improve from 0.30280\n",
            "Epoch 12/100\n",
            "118/118 [==============================] - 126s 1s/step - loss: 1.4674 - accuracy: 0.2796 - val_loss: 7158.9434 - val_accuracy: 0.3028\n",
            "\n",
            "Epoch 00012: val_accuracy did not improve from 0.30280\n",
            "Epoch 13/100\n",
            "118/118 [==============================] - 128s 1s/step - loss: 1.4779 - accuracy: 0.2945 - val_loss: 345.7473 - val_accuracy: 0.2220\n",
            "\n",
            "Epoch 00013: val_accuracy did not improve from 0.30280\n",
            "Epoch 14/100\n",
            "118/118 [==============================] - 127s 1s/step - loss: 1.4849 - accuracy: 0.2598 - val_loss: 2485.1995 - val_accuracy: 0.0226\n",
            "\n",
            "Epoch 00014: val_accuracy did not improve from 0.30280\n",
            "Epoch 15/100\n",
            "118/118 [==============================] - 127s 1s/step - loss: 1.6137 - accuracy: 0.2805 - val_loss: 190.7502 - val_accuracy: 0.1832\n",
            "\n",
            "Epoch 00015: val_accuracy did not improve from 0.30280\n",
            "Epoch 16/100\n",
            "118/118 [==============================] - 128s 1s/step - loss: 1.5364 - accuracy: 0.2761 - val_loss: 1.4491 - val_accuracy: 0.2716\n",
            "\n",
            "Epoch 00016: val_accuracy did not improve from 0.30280\n",
            "Epoch 17/100\n",
            "118/118 [==============================] - 127s 1s/step - loss: 1.4876 - accuracy: 0.2613 - val_loss: 29.4524 - val_accuracy: 0.2694\n",
            "\n",
            "Epoch 00017: val_accuracy did not improve from 0.30280\n",
            "Epoch 18/100\n",
            "118/118 [==============================] - 127s 1s/step - loss: 1.4609 - accuracy: 0.2789 - val_loss: 732.3793 - val_accuracy: 0.2694\n",
            "\n",
            "Epoch 00018: val_accuracy did not improve from 0.30280\n",
            "Epoch 19/100\n",
            "118/118 [==============================] - 127s 1s/step - loss: 1.4722 - accuracy: 0.2775 - val_loss: 1.4532 - val_accuracy: 0.3006\n",
            "\n",
            "Epoch 00019: val_accuracy did not improve from 0.30280\n",
            "Epoch 20/100\n",
            "118/118 [==============================] - 127s 1s/step - loss: 1.4767 - accuracy: 0.2620 - val_loss: 1.4470 - val_accuracy: 0.2683\n",
            "\n",
            "Epoch 00020: val_accuracy did not improve from 0.30280\n",
            "Epoch 21/100\n",
            "118/118 [==============================] - 127s 1s/step - loss: 1.4620 - accuracy: 0.2793 - val_loss: 1.5582 - val_accuracy: 0.2974\n",
            "\n",
            "Epoch 00021: val_accuracy did not improve from 0.30280\n",
            "Epoch 22/100\n",
            "118/118 [==============================] - 126s 1s/step - loss: 1.4676 - accuracy: 0.2772 - val_loss: 1.4499 - val_accuracy: 0.3039\n",
            "\n",
            "Epoch 00022: val_accuracy improved from 0.30280 to 0.30388, saving model to /content/drive/MyDrive/petfinder/weights\n",
            "INFO:tensorflow:Assets written to: /content/drive/MyDrive/petfinder/weights/assets\n",
            "Epoch 23/100\n",
            "118/118 [==============================] - 127s 1s/step - loss: 1.4617 - accuracy: 0.2861 - val_loss: 5.0521 - val_accuracy: 0.2985\n",
            "\n",
            "Epoch 00023: val_accuracy did not improve from 0.30388\n",
            "Epoch 24/100\n",
            "118/118 [==============================] - 127s 1s/step - loss: 1.4631 - accuracy: 0.2612 - val_loss: 1.4820 - val_accuracy: 0.3050\n",
            "\n",
            "Epoch 00024: val_accuracy improved from 0.30388 to 0.30496, saving model to /content/drive/MyDrive/petfinder/weights\n",
            "INFO:tensorflow:Assets written to: /content/drive/MyDrive/petfinder/weights/assets\n",
            "Epoch 25/100\n",
            "118/118 [==============================] - 129s 1s/step - loss: 1.4617 - accuracy: 0.2677 - val_loss: 1.4497 - val_accuracy: 0.3028\n",
            "\n",
            "Epoch 00025: val_accuracy did not improve from 0.30496\n",
            "Epoch 26/100\n",
            "118/118 [==============================] - 129s 1s/step - loss: 1.4647 - accuracy: 0.2542 - val_loss: 1.4525 - val_accuracy: 0.3028\n",
            "\n",
            "Epoch 00026: val_accuracy did not improve from 0.30496\n",
            "Epoch 27/100\n",
            "118/118 [==============================] - 128s 1s/step - loss: 1.4697 - accuracy: 0.2800 - val_loss: 37868.3203 - val_accuracy: 0.1832\n",
            "\n",
            "Epoch 00027: val_accuracy did not improve from 0.30496\n",
            "Epoch 28/100\n",
            "118/118 [==============================] - 130s 1s/step - loss: 1.4607 - accuracy: 0.2718 - val_loss: 2.3217 - val_accuracy: 0.2231\n",
            "\n",
            "Epoch 00028: val_accuracy did not improve from 0.30496\n",
            "Epoch 29/100\n",
            "118/118 [==============================] - 129s 1s/step - loss: 1.4658 - accuracy: 0.2501 - val_loss: 1.4940 - val_accuracy: 0.2694\n",
            "\n",
            "Epoch 00029: val_accuracy did not improve from 0.30496\n",
            "Epoch 30/100\n",
            "118/118 [==============================] - 129s 1s/step - loss: 1.4526 - accuracy: 0.2712 - val_loss: 1.4597 - val_accuracy: 0.3028\n",
            "\n",
            "Epoch 00030: val_accuracy did not improve from 0.30496\n",
            "Epoch 31/100\n",
            "118/118 [==============================] - 128s 1s/step - loss: 1.8065 - accuracy: 0.2678 - val_loss: 14.9142 - val_accuracy: 0.1832\n",
            "\n",
            "Epoch 00031: val_accuracy did not improve from 0.30496\n",
            "Epoch 32/100\n",
            "118/118 [==============================] - 129s 1s/step - loss: 1.5118 - accuracy: 0.2656 - val_loss: 3.8452 - val_accuracy: 0.2802\n",
            "\n",
            "Epoch 00032: val_accuracy did not improve from 0.30496\n",
            "Epoch 33/100\n",
            "118/118 [==============================] - 129s 1s/step - loss: 1.4977 - accuracy: 0.2764 - val_loss: 2.5197 - val_accuracy: 0.2769\n",
            "\n",
            "Epoch 00033: val_accuracy did not improve from 0.30496\n",
            "Epoch 34/100\n",
            "118/118 [==============================] - 128s 1s/step - loss: 1.4612 - accuracy: 0.2860 - val_loss: 4.7142 - val_accuracy: 0.2791\n",
            "\n",
            "Epoch 00034: val_accuracy did not improve from 0.30496\n",
            "Epoch 35/100\n",
            "118/118 [==============================] - 127s 1s/step - loss: 1.4635 - accuracy: 0.2892 - val_loss: 1.4673 - val_accuracy: 0.2694\n",
            "\n",
            "Epoch 00035: val_accuracy did not improve from 0.30496\n",
            "Epoch 36/100\n",
            "118/118 [==============================] - 126s 1s/step - loss: 1.4519 - accuracy: 0.2738 - val_loss: 1.5006 - val_accuracy: 0.2899\n",
            "\n",
            "Epoch 00036: val_accuracy did not improve from 0.30496\n",
            "Epoch 37/100\n",
            "118/118 [==============================] - 128s 1s/step - loss: 1.4591 - accuracy: 0.2648 - val_loss: 1.4831 - val_accuracy: 0.2241\n",
            "\n",
            "Epoch 00037: val_accuracy did not improve from 0.30496\n",
            "Epoch 38/100\n",
            "118/118 [==============================] - 127s 1s/step - loss: 1.4629 - accuracy: 0.2634 - val_loss: 1.6112 - val_accuracy: 0.2963\n",
            "\n",
            "Epoch 00038: val_accuracy did not improve from 0.30496\n",
            "Epoch 39/100\n",
            "118/118 [==============================] - 128s 1s/step - loss: 1.4585 - accuracy: 0.2889 - val_loss: 1.4478 - val_accuracy: 0.3028\n",
            "\n",
            "Epoch 00039: val_accuracy did not improve from 0.30496\n",
            "Epoch 40/100\n",
            "118/118 [==============================] - 127s 1s/step - loss: 1.4666 - accuracy: 0.2738 - val_loss: 1.4494 - val_accuracy: 0.2942\n",
            "\n",
            "Epoch 00040: val_accuracy did not improve from 0.30496\n",
            "Epoch 41/100\n",
            "118/118 [==============================] - 127s 1s/step - loss: 1.4558 - accuracy: 0.2726 - val_loss: 1.4484 - val_accuracy: 0.3028\n",
            "\n",
            "Epoch 00041: val_accuracy did not improve from 0.30496\n",
            "Epoch 42/100\n",
            "118/118 [==============================] - 127s 1s/step - loss: 1.4634 - accuracy: 0.2822 - val_loss: 1.4545 - val_accuracy: 0.3039\n",
            "\n",
            "Epoch 00042: val_accuracy did not improve from 0.30496\n",
            "Epoch 43/100\n",
            "118/118 [==============================] - 128s 1s/step - loss: 1.4598 - accuracy: 0.2871 - val_loss: 1.4480 - val_accuracy: 0.3028\n",
            "\n",
            "Epoch 00043: val_accuracy did not improve from 0.30496\n",
            "Epoch 44/100\n",
            "118/118 [==============================] - 127s 1s/step - loss: 1.4626 - accuracy: 0.2793 - val_loss: 1.4488 - val_accuracy: 0.3028\n",
            "\n",
            "Epoch 00044: val_accuracy did not improve from 0.30496\n",
            "Epoch 45/100\n",
            "118/118 [==============================] - 128s 1s/step - loss: 1.4615 - accuracy: 0.2805 - val_loss: 1.4552 - val_accuracy: 0.3028\n",
            "\n",
            "Epoch 00045: val_accuracy did not improve from 0.30496\n",
            "Epoch 46/100\n",
            "118/118 [==============================] - 127s 1s/step - loss: 1.4733 - accuracy: 0.2757 - val_loss: 1.4952 - val_accuracy: 0.2726\n",
            "\n",
            "Epoch 00046: val_accuracy did not improve from 0.30496\n",
            "Epoch 47/100\n",
            "118/118 [==============================] - 127s 1s/step - loss: 1.4727 - accuracy: 0.2763 - val_loss: 12.9288 - val_accuracy: 0.2694\n",
            "\n",
            "Epoch 00047: val_accuracy did not improve from 0.30496\n",
            "Epoch 48/100\n",
            "118/118 [==============================] - 127s 1s/step - loss: 1.4671 - accuracy: 0.2951 - val_loss: 1.4515 - val_accuracy: 0.3028\n",
            "\n",
            "Epoch 00048: val_accuracy did not improve from 0.30496\n",
            "Epoch 49/100\n",
            "118/118 [==============================] - 126s 1s/step - loss: 1.4739 - accuracy: 0.2690 - val_loss: 1.4505 - val_accuracy: 0.3028\n",
            "\n",
            "Epoch 00049: val_accuracy did not improve from 0.30496\n",
            "Epoch 50/100\n",
            "118/118 [==============================] - 128s 1s/step - loss: 1.4857 - accuracy: 0.2874 - val_loss: 1.4482 - val_accuracy: 0.3028\n",
            "\n",
            "Epoch 00050: val_accuracy did not improve from 0.30496\n",
            "Epoch 51/100\n",
            "118/118 [==============================] - 128s 1s/step - loss: 1.4889 - accuracy: 0.2593 - val_loss: 1.4492 - val_accuracy: 0.3028\n",
            "\n",
            "Epoch 00051: val_accuracy did not improve from 0.30496\n",
            "Epoch 52/100\n",
            "118/118 [==============================] - 128s 1s/step - loss: 1.4705 - accuracy: 0.2894 - val_loss: 1.4511 - val_accuracy: 0.3028\n",
            "\n",
            "Epoch 00052: val_accuracy did not improve from 0.30496\n",
            "Epoch 53/100\n",
            "118/118 [==============================] - 129s 1s/step - loss: 1.4737 - accuracy: 0.2637 - val_loss: 51.6876 - val_accuracy: 0.0647\n",
            "\n",
            "Epoch 00053: val_accuracy did not improve from 0.30496\n",
            "Epoch 54/100\n",
            "118/118 [==============================] - 127s 1s/step - loss: 1.4579 - accuracy: 0.2743 - val_loss: 36.1581 - val_accuracy: 0.1832\n",
            "\n",
            "Epoch 00054: val_accuracy did not improve from 0.30496\n",
            "Epoch 55/100\n",
            "118/118 [==============================] - 128s 1s/step - loss: 1.4668 - accuracy: 0.2740 - val_loss: 1.4484 - val_accuracy: 0.3028\n",
            "\n",
            "Epoch 00055: val_accuracy did not improve from 0.30496\n",
            "Epoch 56/100\n",
            "118/118 [==============================] - 128s 1s/step - loss: 1.4536 - accuracy: 0.2974 - val_loss: 1.4496 - val_accuracy: 0.3028\n",
            "\n",
            "Epoch 00056: val_accuracy did not improve from 0.30496\n",
            "Epoch 57/100\n",
            "118/118 [==============================] - 129s 1s/step - loss: 1.4603 - accuracy: 0.2888 - val_loss: 1.4481 - val_accuracy: 0.3028\n",
            "\n",
            "Epoch 00057: val_accuracy did not improve from 0.30496\n",
            "Epoch 58/100\n",
            "118/118 [==============================] - 128s 1s/step - loss: 1.4685 - accuracy: 0.2739 - val_loss: 1.5090 - val_accuracy: 0.2694\n",
            "\n",
            "Epoch 00058: val_accuracy did not improve from 0.30496\n",
            "Epoch 59/100\n",
            "118/118 [==============================] - 129s 1s/step - loss: 1.4656 - accuracy: 0.2758 - val_loss: 1.6093 - val_accuracy: 0.1832\n",
            "\n",
            "Epoch 00059: val_accuracy did not improve from 0.30496\n",
            "Epoch 60/100\n",
            "118/118 [==============================] - 129s 1s/step - loss: 1.4594 - accuracy: 0.2877 - val_loss: 1.4541 - val_accuracy: 0.3028\n",
            "\n",
            "Epoch 00060: val_accuracy did not improve from 0.30496\n",
            "Epoch 61/100\n",
            "118/118 [==============================] - 129s 1s/step - loss: 1.4694 - accuracy: 0.2693 - val_loss: 1.4479 - val_accuracy: 0.3039\n",
            "\n",
            "Epoch 00061: val_accuracy did not improve from 0.30496\n",
            "Epoch 62/100\n",
            "118/118 [==============================] - 129s 1s/step - loss: 1.4682 - accuracy: 0.2675 - val_loss: 38.4775 - val_accuracy: 0.3028\n",
            "\n",
            "Epoch 00062: val_accuracy did not improve from 0.30496\n",
            "Epoch 63/100\n",
            "118/118 [==============================] - 128s 1s/step - loss: 1.4658 - accuracy: 0.2555 - val_loss: 71.7336 - val_accuracy: 0.3028\n",
            "\n",
            "Epoch 00063: val_accuracy did not improve from 0.30496\n",
            "Epoch 64/100\n",
            "118/118 [==============================] - 129s 1s/step - loss: 1.4856 - accuracy: 0.2625 - val_loss: 29.7428 - val_accuracy: 0.2220\n",
            "\n",
            "Epoch 00064: val_accuracy did not improve from 0.30496\n",
            "Epoch 65/100\n",
            "118/118 [==============================] - 128s 1s/step - loss: 1.4523 - accuracy: 0.2827 - val_loss: 1.6134 - val_accuracy: 0.2963\n",
            "\n",
            "Epoch 00065: val_accuracy did not improve from 0.30496\n",
            "Epoch 66/100\n",
            "118/118 [==============================] - 128s 1s/step - loss: 1.4666 - accuracy: 0.2844 - val_loss: 1.4523 - val_accuracy: 0.3017\n",
            "\n",
            "Epoch 00066: val_accuracy did not improve from 0.30496\n",
            "Epoch 67/100\n",
            "118/118 [==============================] - 127s 1s/step - loss: 1.4644 - accuracy: 0.2919 - val_loss: 1.4491 - val_accuracy: 0.3028\n",
            "\n",
            "Epoch 00067: val_accuracy did not improve from 0.30496\n",
            "Epoch 68/100\n",
            "118/118 [==============================] - 128s 1s/step - loss: 1.4406 - accuracy: 0.2779 - val_loss: 1.4478 - val_accuracy: 0.3028\n",
            "\n",
            "Epoch 00068: val_accuracy did not improve from 0.30496\n",
            "Epoch 69/100\n",
            "118/118 [==============================] - 128s 1s/step - loss: 1.4589 - accuracy: 0.2669 - val_loss: 1.4476 - val_accuracy: 0.3028\n",
            "\n",
            "Epoch 00069: val_accuracy did not improve from 0.30496\n",
            "Epoch 70/100\n",
            "118/118 [==============================] - 129s 1s/step - loss: 1.4665 - accuracy: 0.2542 - val_loss: 2.0077 - val_accuracy: 0.2856\n",
            "\n",
            "Epoch 00070: val_accuracy did not improve from 0.30496\n",
            "Epoch 71/100\n",
            "118/118 [==============================] - 129s 1s/step - loss: 1.4652 - accuracy: 0.2794 - val_loss: 1.4501 - val_accuracy: 0.3028\n",
            "\n",
            "Epoch 00071: val_accuracy did not improve from 0.30496\n",
            "Epoch 72/100\n",
            "118/118 [==============================] - 128s 1s/step - loss: 1.4672 - accuracy: 0.2855 - val_loss: 1.4541 - val_accuracy: 0.3028\n",
            "\n",
            "Epoch 00072: val_accuracy did not improve from 0.30496\n",
            "Epoch 73/100\n",
            "118/118 [==============================] - 128s 1s/step - loss: 1.4718 - accuracy: 0.2910 - val_loss: 265.9413 - val_accuracy: 0.2694\n",
            "\n",
            "Epoch 00073: val_accuracy did not improve from 0.30496\n",
            "Epoch 74/100\n",
            "118/118 [==============================] - 128s 1s/step - loss: 1.5600 - accuracy: 0.2734 - val_loss: 763.9625 - val_accuracy: 0.3028\n",
            "\n",
            "Epoch 00074: val_accuracy did not improve from 0.30496\n",
            "Epoch 75/100\n",
            "118/118 [==============================] - 128s 1s/step - loss: 1.6625 - accuracy: 0.2480 - val_loss: 1.4542 - val_accuracy: 0.3028\n",
            "\n",
            "Epoch 00075: val_accuracy did not improve from 0.30496\n",
            "Epoch 76/100\n",
            "118/118 [==============================] - 128s 1s/step - loss: 1.4872 - accuracy: 0.2650 - val_loss: 1.4555 - val_accuracy: 0.3028\n",
            "\n",
            "Epoch 00076: val_accuracy did not improve from 0.30496\n",
            "Epoch 77/100\n",
            "118/118 [==============================] - 128s 1s/step - loss: 1.5167 - accuracy: 0.2620 - val_loss: 1.4530 - val_accuracy: 0.3028\n",
            "\n",
            "Epoch 00077: val_accuracy did not improve from 0.30496\n",
            "Epoch 78/100\n",
            "118/118 [==============================] - 128s 1s/step - loss: 1.4616 - accuracy: 0.2935 - val_loss: 1.4532 - val_accuracy: 0.3028\n",
            "\n",
            "Epoch 00078: val_accuracy did not improve from 0.30496\n",
            "Epoch 79/100\n",
            "118/118 [==============================] - 128s 1s/step - loss: 1.4534 - accuracy: 0.2973 - val_loss: 2.0383 - val_accuracy: 0.3006\n",
            "\n",
            "Epoch 00079: val_accuracy did not improve from 0.30496\n",
            "Epoch 80/100\n",
            "118/118 [==============================] - 130s 1s/step - loss: 1.4733 - accuracy: 0.2729 - val_loss: 2.9011 - val_accuracy: 0.2694\n",
            "\n",
            "Epoch 00080: val_accuracy did not improve from 0.30496\n",
            "Epoch 81/100\n",
            "118/118 [==============================] - 129s 1s/step - loss: 1.4556 - accuracy: 0.2702 - val_loss: 1.4497 - val_accuracy: 0.3028\n",
            "\n",
            "Epoch 00081: val_accuracy did not improve from 0.30496\n",
            "Epoch 82/100\n",
            "118/118 [==============================] - 128s 1s/step - loss: 1.4695 - accuracy: 0.2818 - val_loss: 1.4488 - val_accuracy: 0.3028\n",
            "\n",
            "Epoch 00082: val_accuracy did not improve from 0.30496\n",
            "Epoch 83/100\n",
            " 25/118 [=====>........................] - ETA: 1:21 - loss: 1.4361 - accuracy: 0.3005"
          ],
          "name": "stdout"
        },
        {
          "output_type": "error",
          "ename": "KeyboardInterrupt",
          "evalue": "ignored",
          "traceback": [
            "\u001b[0;31m---------------------------------------------------------------------------\u001b[0m",
            "\u001b[0;31mKeyboardInterrupt\u001b[0m                         Traceback (most recent call last)",
            "\u001b[0;32m<ipython-input-40-65970891ab99>\u001b[0m in \u001b[0;36m<module>\u001b[0;34m()\u001b[0m\n\u001b[1;32m     11\u001b[0m                 \u001b[0mvalidation_data\u001b[0m \u001b[0;34m=\u001b[0m \u001b[0mmy_validation_batch_generator\u001b[0m\u001b[0;34m,\u001b[0m\u001b[0;34m\u001b[0m\u001b[0;34m\u001b[0m\u001b[0m\n\u001b[1;32m     12\u001b[0m                 \u001b[0mvalidation_steps\u001b[0m \u001b[0;34m=\u001b[0m \u001b[0mint\u001b[0m\u001b[0;34m(\u001b[0m\u001b[0;36m950\u001b[0m \u001b[0;34m//\u001b[0m \u001b[0mbatch_size\u001b[0m\u001b[0;34m)\u001b[0m\u001b[0;34m,\u001b[0m\u001b[0;34m\u001b[0m\u001b[0;34m\u001b[0m\u001b[0m\n\u001b[0;32m---> 13\u001b[0;31m                 callbacks=callbacks_list)\n\u001b[0m",
            "\u001b[0;32m/usr/local/lib/python3.6/dist-packages/tensorflow/python/keras/engine/training.py\u001b[0m in \u001b[0;36mfit_generator\u001b[0;34m(self, generator, steps_per_epoch, epochs, verbose, callbacks, validation_data, validation_steps, validation_freq, class_weight, max_queue_size, workers, use_multiprocessing, shuffle, initial_epoch)\u001b[0m\n\u001b[1;32m   1859\u001b[0m         \u001b[0muse_multiprocessing\u001b[0m\u001b[0;34m=\u001b[0m\u001b[0muse_multiprocessing\u001b[0m\u001b[0;34m,\u001b[0m\u001b[0;34m\u001b[0m\u001b[0;34m\u001b[0m\u001b[0m\n\u001b[1;32m   1860\u001b[0m         \u001b[0mshuffle\u001b[0m\u001b[0;34m=\u001b[0m\u001b[0mshuffle\u001b[0m\u001b[0;34m,\u001b[0m\u001b[0;34m\u001b[0m\u001b[0;34m\u001b[0m\u001b[0m\n\u001b[0;32m-> 1861\u001b[0;31m         initial_epoch=initial_epoch)\n\u001b[0m\u001b[1;32m   1862\u001b[0m \u001b[0;34m\u001b[0m\u001b[0m\n\u001b[1;32m   1863\u001b[0m   def evaluate_generator(self,\n",
            "\u001b[0;32m/usr/local/lib/python3.6/dist-packages/tensorflow/python/keras/engine/training.py\u001b[0m in \u001b[0;36mfit\u001b[0;34m(self, x, y, batch_size, epochs, verbose, callbacks, validation_split, validation_data, shuffle, class_weight, sample_weight, initial_epoch, steps_per_epoch, validation_steps, validation_batch_size, validation_freq, max_queue_size, workers, use_multiprocessing)\u001b[0m\n\u001b[1;32m   1098\u001b[0m                 _r=1):\n\u001b[1;32m   1099\u001b[0m               \u001b[0mcallbacks\u001b[0m\u001b[0;34m.\u001b[0m\u001b[0mon_train_batch_begin\u001b[0m\u001b[0;34m(\u001b[0m\u001b[0mstep\u001b[0m\u001b[0;34m)\u001b[0m\u001b[0;34m\u001b[0m\u001b[0;34m\u001b[0m\u001b[0m\n\u001b[0;32m-> 1100\u001b[0;31m               \u001b[0mtmp_logs\u001b[0m \u001b[0;34m=\u001b[0m \u001b[0mself\u001b[0m\u001b[0;34m.\u001b[0m\u001b[0mtrain_function\u001b[0m\u001b[0;34m(\u001b[0m\u001b[0miterator\u001b[0m\u001b[0;34m)\u001b[0m\u001b[0;34m\u001b[0m\u001b[0;34m\u001b[0m\u001b[0m\n\u001b[0m\u001b[1;32m   1101\u001b[0m               \u001b[0;32mif\u001b[0m \u001b[0mdata_handler\u001b[0m\u001b[0;34m.\u001b[0m\u001b[0mshould_sync\u001b[0m\u001b[0;34m:\u001b[0m\u001b[0;34m\u001b[0m\u001b[0;34m\u001b[0m\u001b[0m\n\u001b[1;32m   1102\u001b[0m                 \u001b[0mcontext\u001b[0m\u001b[0;34m.\u001b[0m\u001b[0masync_wait\u001b[0m\u001b[0;34m(\u001b[0m\u001b[0;34m)\u001b[0m\u001b[0;34m\u001b[0m\u001b[0;34m\u001b[0m\u001b[0m\n",
            "\u001b[0;32m/usr/local/lib/python3.6/dist-packages/tensorflow/python/eager/def_function.py\u001b[0m in \u001b[0;36m__call__\u001b[0;34m(self, *args, **kwds)\u001b[0m\n\u001b[1;32m    826\u001b[0m     \u001b[0mtracing_count\u001b[0m \u001b[0;34m=\u001b[0m \u001b[0mself\u001b[0m\u001b[0;34m.\u001b[0m\u001b[0mexperimental_get_tracing_count\u001b[0m\u001b[0;34m(\u001b[0m\u001b[0;34m)\u001b[0m\u001b[0;34m\u001b[0m\u001b[0;34m\u001b[0m\u001b[0m\n\u001b[1;32m    827\u001b[0m     \u001b[0;32mwith\u001b[0m \u001b[0mtrace\u001b[0m\u001b[0;34m.\u001b[0m\u001b[0mTrace\u001b[0m\u001b[0;34m(\u001b[0m\u001b[0mself\u001b[0m\u001b[0;34m.\u001b[0m\u001b[0m_name\u001b[0m\u001b[0;34m)\u001b[0m \u001b[0;32mas\u001b[0m \u001b[0mtm\u001b[0m\u001b[0;34m:\u001b[0m\u001b[0;34m\u001b[0m\u001b[0;34m\u001b[0m\u001b[0m\n\u001b[0;32m--> 828\u001b[0;31m       \u001b[0mresult\u001b[0m \u001b[0;34m=\u001b[0m \u001b[0mself\u001b[0m\u001b[0;34m.\u001b[0m\u001b[0m_call\u001b[0m\u001b[0;34m(\u001b[0m\u001b[0;34m*\u001b[0m\u001b[0margs\u001b[0m\u001b[0;34m,\u001b[0m \u001b[0;34m**\u001b[0m\u001b[0mkwds\u001b[0m\u001b[0;34m)\u001b[0m\u001b[0;34m\u001b[0m\u001b[0;34m\u001b[0m\u001b[0m\n\u001b[0m\u001b[1;32m    829\u001b[0m       \u001b[0mcompiler\u001b[0m \u001b[0;34m=\u001b[0m \u001b[0;34m\"xla\"\u001b[0m \u001b[0;32mif\u001b[0m \u001b[0mself\u001b[0m\u001b[0;34m.\u001b[0m\u001b[0m_experimental_compile\u001b[0m \u001b[0;32melse\u001b[0m \u001b[0;34m\"nonXla\"\u001b[0m\u001b[0;34m\u001b[0m\u001b[0;34m\u001b[0m\u001b[0m\n\u001b[1;32m    830\u001b[0m       \u001b[0mnew_tracing_count\u001b[0m \u001b[0;34m=\u001b[0m \u001b[0mself\u001b[0m\u001b[0;34m.\u001b[0m\u001b[0mexperimental_get_tracing_count\u001b[0m\u001b[0;34m(\u001b[0m\u001b[0;34m)\u001b[0m\u001b[0;34m\u001b[0m\u001b[0;34m\u001b[0m\u001b[0m\n",
            "\u001b[0;32m/usr/local/lib/python3.6/dist-packages/tensorflow/python/eager/def_function.py\u001b[0m in \u001b[0;36m_call\u001b[0;34m(self, *args, **kwds)\u001b[0m\n\u001b[1;32m    853\u001b[0m       \u001b[0;31m# In this case we have created variables on the first call, so we run the\u001b[0m\u001b[0;34m\u001b[0m\u001b[0;34m\u001b[0m\u001b[0;34m\u001b[0m\u001b[0m\n\u001b[1;32m    854\u001b[0m       \u001b[0;31m# defunned version which is guaranteed to never create variables.\u001b[0m\u001b[0;34m\u001b[0m\u001b[0;34m\u001b[0m\u001b[0;34m\u001b[0m\u001b[0m\n\u001b[0;32m--> 855\u001b[0;31m       \u001b[0;32mreturn\u001b[0m \u001b[0mself\u001b[0m\u001b[0;34m.\u001b[0m\u001b[0m_stateless_fn\u001b[0m\u001b[0;34m(\u001b[0m\u001b[0;34m*\u001b[0m\u001b[0margs\u001b[0m\u001b[0;34m,\u001b[0m \u001b[0;34m**\u001b[0m\u001b[0mkwds\u001b[0m\u001b[0;34m)\u001b[0m  \u001b[0;31m# pylint: disable=not-callable\u001b[0m\u001b[0;34m\u001b[0m\u001b[0;34m\u001b[0m\u001b[0m\n\u001b[0m\u001b[1;32m    856\u001b[0m     \u001b[0;32melif\u001b[0m \u001b[0mself\u001b[0m\u001b[0;34m.\u001b[0m\u001b[0m_stateful_fn\u001b[0m \u001b[0;32mis\u001b[0m \u001b[0;32mnot\u001b[0m \u001b[0;32mNone\u001b[0m\u001b[0;34m:\u001b[0m\u001b[0;34m\u001b[0m\u001b[0;34m\u001b[0m\u001b[0m\n\u001b[1;32m    857\u001b[0m       \u001b[0;31m# Release the lock early so that multiple threads can perform the call\u001b[0m\u001b[0;34m\u001b[0m\u001b[0;34m\u001b[0m\u001b[0;34m\u001b[0m\u001b[0m\n",
            "\u001b[0;32m/usr/local/lib/python3.6/dist-packages/tensorflow/python/eager/function.py\u001b[0m in \u001b[0;36m__call__\u001b[0;34m(self, *args, **kwargs)\u001b[0m\n\u001b[1;32m   2941\u001b[0m        filtered_flat_args) = self._maybe_define_function(args, kwargs)\n\u001b[1;32m   2942\u001b[0m     return graph_function._call_flat(\n\u001b[0;32m-> 2943\u001b[0;31m         filtered_flat_args, captured_inputs=graph_function.captured_inputs)  # pylint: disable=protected-access\n\u001b[0m\u001b[1;32m   2944\u001b[0m \u001b[0;34m\u001b[0m\u001b[0m\n\u001b[1;32m   2945\u001b[0m   \u001b[0;34m@\u001b[0m\u001b[0mproperty\u001b[0m\u001b[0;34m\u001b[0m\u001b[0;34m\u001b[0m\u001b[0m\n",
            "\u001b[0;32m/usr/local/lib/python3.6/dist-packages/tensorflow/python/eager/function.py\u001b[0m in \u001b[0;36m_call_flat\u001b[0;34m(self, args, captured_inputs, cancellation_manager)\u001b[0m\n\u001b[1;32m   1917\u001b[0m       \u001b[0;31m# No tape is watching; skip to running the function.\u001b[0m\u001b[0;34m\u001b[0m\u001b[0;34m\u001b[0m\u001b[0;34m\u001b[0m\u001b[0m\n\u001b[1;32m   1918\u001b[0m       return self._build_call_outputs(self._inference_function.call(\n\u001b[0;32m-> 1919\u001b[0;31m           ctx, args, cancellation_manager=cancellation_manager))\n\u001b[0m\u001b[1;32m   1920\u001b[0m     forward_backward = self._select_forward_and_backward_functions(\n\u001b[1;32m   1921\u001b[0m         \u001b[0margs\u001b[0m\u001b[0;34m,\u001b[0m\u001b[0;34m\u001b[0m\u001b[0;34m\u001b[0m\u001b[0m\n",
            "\u001b[0;32m/usr/local/lib/python3.6/dist-packages/tensorflow/python/eager/function.py\u001b[0m in \u001b[0;36mcall\u001b[0;34m(self, ctx, args, cancellation_manager)\u001b[0m\n\u001b[1;32m    558\u001b[0m               \u001b[0minputs\u001b[0m\u001b[0;34m=\u001b[0m\u001b[0margs\u001b[0m\u001b[0;34m,\u001b[0m\u001b[0;34m\u001b[0m\u001b[0;34m\u001b[0m\u001b[0m\n\u001b[1;32m    559\u001b[0m               \u001b[0mattrs\u001b[0m\u001b[0;34m=\u001b[0m\u001b[0mattrs\u001b[0m\u001b[0;34m,\u001b[0m\u001b[0;34m\u001b[0m\u001b[0;34m\u001b[0m\u001b[0m\n\u001b[0;32m--> 560\u001b[0;31m               ctx=ctx)\n\u001b[0m\u001b[1;32m    561\u001b[0m         \u001b[0;32melse\u001b[0m\u001b[0;34m:\u001b[0m\u001b[0;34m\u001b[0m\u001b[0;34m\u001b[0m\u001b[0m\n\u001b[1;32m    562\u001b[0m           outputs = execute.execute_with_cancellation(\n",
            "\u001b[0;32m/usr/local/lib/python3.6/dist-packages/tensorflow/python/eager/execute.py\u001b[0m in \u001b[0;36mquick_execute\u001b[0;34m(op_name, num_outputs, inputs, attrs, ctx, name)\u001b[0m\n\u001b[1;32m     58\u001b[0m     \u001b[0mctx\u001b[0m\u001b[0;34m.\u001b[0m\u001b[0mensure_initialized\u001b[0m\u001b[0;34m(\u001b[0m\u001b[0;34m)\u001b[0m\u001b[0;34m\u001b[0m\u001b[0;34m\u001b[0m\u001b[0m\n\u001b[1;32m     59\u001b[0m     tensors = pywrap_tfe.TFE_Py_Execute(ctx._handle, device_name, op_name,\n\u001b[0;32m---> 60\u001b[0;31m                                         inputs, attrs, num_outputs)\n\u001b[0m\u001b[1;32m     61\u001b[0m   \u001b[0;32mexcept\u001b[0m \u001b[0mcore\u001b[0m\u001b[0;34m.\u001b[0m\u001b[0m_NotOkStatusException\u001b[0m \u001b[0;32mas\u001b[0m \u001b[0me\u001b[0m\u001b[0;34m:\u001b[0m\u001b[0;34m\u001b[0m\u001b[0;34m\u001b[0m\u001b[0m\n\u001b[1;32m     62\u001b[0m     \u001b[0;32mif\u001b[0m \u001b[0mname\u001b[0m \u001b[0;32mis\u001b[0m \u001b[0;32mnot\u001b[0m \u001b[0;32mNone\u001b[0m\u001b[0;34m:\u001b[0m\u001b[0;34m\u001b[0m\u001b[0;34m\u001b[0m\u001b[0m\n",
            "\u001b[0;31mKeyboardInterrupt\u001b[0m: "
          ]
        }
      ]
    },
    {
      "cell_type": "code",
      "metadata": {
        "id": "b8EEBdxXMPDb",
        "colab": {
          "base_uri": "https://localhost:8080/"
        },
        "outputId": "1eec534b-d858-4d29-e566-69d1b04e30ac"
      },
      "source": [
        "m.save(\"/content/drive/MyDrive/petfinder/weights/my_model\")\r\n"
      ],
      "execution_count": null,
      "outputs": [
        {
          "output_type": "stream",
          "text": [
            "INFO:tensorflow:Assets written to: /content/drive/MyDrive/petfinder/weights/my_model/assets\n"
          ],
          "name": "stdout"
        }
      ]
    },
    {
      "cell_type": "markdown",
      "metadata": {
        "id": "qag5KYvwmfE0"
      },
      "source": [
        "# NLP"
      ]
    },
    {
      "cell_type": "code",
      "metadata": {
        "colab": {
          "base_uri": "https://localhost:8080/"
        },
        "id": "2wrnGih6nWvL",
        "outputId": "208f4e1a-5ecf-428d-ba08-7c2c182fff73"
      },
      "source": [
        "from nltk.tokenize import TweetTokenizer\r\n",
        "import nltk\r\n",
        "isascii = lambda s: len(s) == len(s.encode())\r\n",
        "tknzr = TweetTokenizer()\r\n",
        "import jieba\r\n",
        "from nltk.stem import PorterStemmer\r\n",
        "ps = PorterStemmer()\r\n",
        "from nltk.stem.lancaster import LancasterStemmer\r\n",
        "lc = LancasterStemmer()\r\n",
        "from nltk.stem import SnowballStemmer\r\n",
        "sb = SnowballStemmer(\"english\")\r\n",
        "nltk.download('averaged_perceptron_tagger')\r\n"
      ],
      "execution_count": 52,
      "outputs": [
        {
          "output_type": "stream",
          "text": [
            "[nltk_data] Downloading package averaged_perceptron_tagger to\n",
            "[nltk_data]     /root/nltk_data...\n",
            "[nltk_data]   Package averaged_perceptron_tagger is already up-to-\n",
            "[nltk_data]       date!\n"
          ],
          "name": "stdout"
        },
        {
          "output_type": "execute_result",
          "data": {
            "text/plain": [
              "True"
            ]
          },
          "metadata": {
            "tags": []
          },
          "execution_count": 52
        }
      ]
    },
    {
      "cell_type": "code",
      "metadata": {
        "id": "rpq6rWNwpG0n"
      },
      "source": [
        "def custom_tokenizer(text):\r\n",
        "    init_doc = tknzr.tokenize(text)\r\n",
        "    retval = []\r\n",
        "    for t in init_doc:\r\n",
        "        if isascii(t): \r\n",
        "            retval.append(t)\r\n",
        "        else:\r\n",
        "            for w in t:\r\n",
        "                retval.append(w)\r\n",
        "    return retval\r\n",
        "\r\n",
        "def build_emb_matrix(word_dict, emb_dict):\r\n",
        "    embed_size = 300\r\n",
        "    nb_words = len(word_dict)+1000\r\n",
        "    nb_oov = 0\r\n",
        "    embedding_matrix = np.zeros((nb_words, embed_size), dtype=np.float32)\r\n",
        "    unknown_vector = np.zeros((embed_size,), dtype=np.float32) - 1.\r\n",
        "    for key in tqdm(word_dict):\r\n",
        "        word = key\r\n",
        "        embedding_vector = emb_dict.get(word)\r\n",
        "        if embedding_vector is not None:\r\n",
        "            embedding_matrix[word_dict[key]] = embedding_vector\r\n",
        "            continue\r\n",
        "        word = key.lower()\r\n",
        "        embedding_vector = emb_dict.get(word)\r\n",
        "        if embedding_vector is not None:\r\n",
        "            embedding_matrix[word_dict[key]] = embedding_vector\r\n",
        "            continue\r\n",
        "        word = key.upper()\r\n",
        "        embedding_vector = emb_dict.get(word)\r\n",
        "        if embedding_vector is not None:\r\n",
        "            embedding_matrix[word_dict[key]] = embedding_vector\r\n",
        "            continue\r\n",
        "        word = key.capitalize()\r\n",
        "        embedding_vector = emb_dict.get(word)\r\n",
        "        if embedding_vector is not None:\r\n",
        "            embedding_matrix[word_dict[key]] = embedding_vector\r\n",
        "            continue\r\n",
        "        word = ps.stem(key)\r\n",
        "        embedding_vector = emb_dict.get(word)\r\n",
        "        if embedding_vector is not None:\r\n",
        "            embedding_matrix[word_dict[key]] = embedding_vector\r\n",
        "            continue\r\n",
        "        word = lc.stem(key)\r\n",
        "        embedding_vector = emb_dict.get(word)\r\n",
        "        if embedding_vector is not None:\r\n",
        "            embedding_matrix[word_dict[key]] = embedding_vector\r\n",
        "            continue\r\n",
        "        word = sb.stem(key)\r\n",
        "        embedding_vector = emb_dict.get(word)\r\n",
        "        if embedding_vector is not None:\r\n",
        "            embedding_matrix[word_dict[key]] = embedding_vector\r\n",
        "            continue\r\n",
        "        nb_oov+=1\r\n",
        "        embedding_matrix[word_dict[key]] = unknown_vector                    \r\n",
        "    return embedding_matrix, nb_words, nb_oov\r\n"
      ],
      "execution_count": 53,
      "outputs": []
    },
    {
      "cell_type": "code",
      "metadata": {
        "id": "YwhFrV92mhBZ"
      },
      "source": [
        "df['Description'] = df['Description'].fillna(' ')\r\n"
      ],
      "execution_count": 54,
      "outputs": []
    },
    {
      "cell_type": "code",
      "metadata": {
        "id": "ccAHlICXpM38"
      },
      "source": [
        "english_desc, chinese_desc = [], []\r\n",
        "tokens = set()\r\n",
        "word_dict = {}\r\n",
        "pos_count, word_count = 1, 1 # starts from 1, 0 for padding token\r\n",
        "pos_dict = {}\r\n",
        "eng_sequences = []\r\n",
        "pos_sequences = []\r\n",
        "for i in range(len(df)):\r\n",
        "    e_d, c_d, eng_seq, pos_seq = [], [], [], []\r\n",
        "    doc = custom_tokenizer(df['Description'].iloc[i])\r\n",
        "    for token in doc:\r\n",
        "        if not isascii(token):\r\n",
        "            c_d.append(token)\r\n",
        "        else:\r\n",
        "            e_d.append(token)\r\n",
        "            if token not in word_dict:\r\n",
        "                word_dict[token] = word_count\r\n",
        "                word_count +=1\r\n",
        "    english_desc.append(' '.join(e_d))\r\n",
        "    chinese_desc.append(' '.join(c_d))\r\n",
        "    pos_seq = nltk.pos_tag(e_d)\r\n",
        "    for t in pos_seq:\r\n",
        "        if t[1] not in pos_dict:\r\n",
        "            pos_dict[t[1]] = pos_count\r\n",
        "            pos_count += 1\r\n",
        "    pos_seq = [pos_dict[t[1]] for t in pos_seq]\r\n",
        "    eng_seq = [word_dict[t] for t in e_d]\r\n",
        "    if len(eng_seq)==0:\r\n",
        "        eng_seq.append(0)\r\n",
        "        pos_seq.append(0)\r\n",
        "    eng_sequences.append(eng_seq)\r\n",
        "    pos_sequences.append(pos_seq)\r\n"
      ],
      "execution_count": 55,
      "outputs": []
    },
    {
      "cell_type": "code",
      "metadata": {
        "colab": {
          "base_uri": "https://localhost:8080/",
          "height": 561
        },
        "id": "rnBjp6JZqE_a",
        "outputId": "f9d22552-632f-4674-f05e-3d10f706ee1d"
      },
      "source": [
        "df['English_desc'] = english_desc\r\n",
        "df['Chinese_desc'] = chinese_desc\r\n",
        "\r\n",
        "df['e_description_len'] = df['English_desc'].apply(lambda x:len(x))\r\n",
        "df['e_description_word_len'] = df['English_desc'].apply(lambda x: len(x.split(' ')))\r\n",
        "df['e_description_word_unique'] = df['English_desc'].apply(lambda x: len(set(x.split(' '))))\r\n",
        "\r\n",
        "df['c_description_len'] = df['Chinese_desc'].apply(lambda x:len(x))\r\n",
        "df['c_description_word_len'] = df['Chinese_desc'].apply(lambda x:len(x.split(' ')))\r\n",
        "df['c_description_word_unique'] = df['Chinese_desc'].apply(lambda x: len(set(x)))\r\n",
        "\r\n",
        "df['description_len'] = df['Description'].apply(lambda x:len(x))\r\n",
        "df['description_word_len'] = df['Description'].apply(lambda x: len(x.split(' ')))\r\n",
        "df[df['c_description_len']>0].head()"
      ],
      "execution_count": 56,
      "outputs": [
        {
          "output_type": "execute_result",
          "data": {
            "text/html": [
              "<div>\n",
              "<style scoped>\n",
              "    .dataframe tbody tr th:only-of-type {\n",
              "        vertical-align: middle;\n",
              "    }\n",
              "\n",
              "    .dataframe tbody tr th {\n",
              "        vertical-align: top;\n",
              "    }\n",
              "\n",
              "    .dataframe thead th {\n",
              "        text-align: right;\n",
              "    }\n",
              "</style>\n",
              "<table border=\"1\" class=\"dataframe\">\n",
              "  <thead>\n",
              "    <tr style=\"text-align: right;\">\n",
              "      <th></th>\n",
              "      <th>PetID</th>\n",
              "      <th>PhotoAmt</th>\n",
              "      <th>AdoptionSpeed</th>\n",
              "      <th>Description</th>\n",
              "      <th>English_desc</th>\n",
              "      <th>Chinese_desc</th>\n",
              "      <th>e_description_len</th>\n",
              "      <th>e_description_word_len</th>\n",
              "      <th>e_description_word_unique</th>\n",
              "      <th>c_description_len</th>\n",
              "      <th>c_description_word_len</th>\n",
              "      <th>c_description_word_unique</th>\n",
              "      <th>description_len</th>\n",
              "      <th>description_word_len</th>\n",
              "    </tr>\n",
              "  </thead>\n",
              "  <tbody>\n",
              "    <tr>\n",
              "      <th>14</th>\n",
              "      <td>c02be41e6</td>\n",
              "      <td>2.0</td>\n",
              "      <td>2</td>\n",
              "      <td>Lost Dog Found (Bandar Menjalara, Kepong／Taman...</td>\n",
              "      <td>Lost Dog Found ( Bandar Menjalara , Kepong Tam...</td>\n",
              "      <td>／ 迷 途 犬 被 尋 獲 甲 洞 孟 加 拉 惹 ／ 武 吉 馬 魯 里 ／ 小 狗 被 ...</td>\n",
              "      <td>397</td>\n",
              "      <td>78</td>\n",
              "      <td>55</td>\n",
              "      <td>197</td>\n",
              "      <td>99</td>\n",
              "      <td>67</td>\n",
              "      <td>485</td>\n",
              "      <td>67</td>\n",
              "    </tr>\n",
              "    <tr>\n",
              "      <th>64</th>\n",
              "      <td>b0dec8779</td>\n",
              "      <td>21.0</td>\n",
              "      <td>3</td>\n",
              "      <td>~ PLEASE CLICK ON OUR PHOTOS FOR A CLEARER VIE...</td>\n",
              "      <td>~ PLEASE CLICK ON OUR PHOTOS FOR A CLEARER VIE...</td>\n",
              "      <td>♦ ♦ • •</td>\n",
              "      <td>813</td>\n",
              "      <td>169</td>\n",
              "      <td>116</td>\n",
              "      <td>7</td>\n",
              "      <td>4</td>\n",
              "      <td>3</td>\n",
              "      <td>874</td>\n",
              "      <td>133</td>\n",
              "    </tr>\n",
              "    <tr>\n",
              "      <th>69</th>\n",
              "      <td>ef14861df</td>\n",
              "      <td>3.0</td>\n",
              "      <td>4</td>\n",
              "      <td>Jasz is a very friendly and well-behaved Schna...</td>\n",
              "      <td>Jasz is a very friendly and well-behaved Schna...</td>\n",
              "      <td>’ ’</td>\n",
              "      <td>158</td>\n",
              "      <td>32</td>\n",
              "      <td>27</td>\n",
              "      <td>3</td>\n",
              "      <td>2</td>\n",
              "      <td>2</td>\n",
              "      <td>156</td>\n",
              "      <td>28</td>\n",
              "    </tr>\n",
              "    <tr>\n",
              "      <th>72</th>\n",
              "      <td>1e62e6022</td>\n",
              "      <td>5.0</td>\n",
              "      <td>1</td>\n",
              "      <td>3 month-old male puppy for adoption. a cross b...</td>\n",
              "      <td>3 month-old male puppy for adoption . a cross ...</td>\n",
              "      <td>♥</td>\n",
              "      <td>236</td>\n",
              "      <td>50</td>\n",
              "      <td>41</td>\n",
              "      <td>1</td>\n",
              "      <td>1</td>\n",
              "      <td>1</td>\n",
              "      <td>230</td>\n",
              "      <td>43</td>\n",
              "    </tr>\n",
              "    <tr>\n",
              "      <th>141</th>\n",
              "      <td>2ac4dd8c2</td>\n",
              "      <td>5.0</td>\n",
              "      <td>3</td>\n",
              "      <td>Name: Pillo aka Lilo Attitude: Was named Pillo...</td>\n",
              "      <td>Name : Pillo aka Lilo Attitude : Was named Pil...</td>\n",
              "      <td>☺ ️ 😀 😃 😄</td>\n",
              "      <td>1166</td>\n",
              "      <td>241</td>\n",
              "      <td>156</td>\n",
              "      <td>9</td>\n",
              "      <td>5</td>\n",
              "      <td>6</td>\n",
              "      <td>1127</td>\n",
              "      <td>195</td>\n",
              "    </tr>\n",
              "  </tbody>\n",
              "</table>\n",
              "</div>"
            ],
            "text/plain": [
              "         PetID  PhotoAmt  ...  description_len description_word_len\n",
              "14   c02be41e6       2.0  ...              485                   67\n",
              "64   b0dec8779      21.0  ...              874                  133\n",
              "69   ef14861df       3.0  ...              156                   28\n",
              "72   1e62e6022       5.0  ...              230                   43\n",
              "141  2ac4dd8c2       5.0  ...             1127                  195\n",
              "\n",
              "[5 rows x 14 columns]"
            ]
          },
          "metadata": {
            "tags": []
          },
          "execution_count": 56
        }
      ]
    },
    {
      "cell_type": "code",
      "metadata": {
        "colab": {
          "base_uri": "https://localhost:8080/"
        },
        "id": "vi8ucC8uqqE5",
        "outputId": "7a345c55-a18f-4d3c-907e-c749673a93ed"
      },
      "source": [
        "print(len(eng_sequences))\r\n",
        "print(len(pos_sequences))\r\n",
        "nb_pos = len(pos_dict)\r\n",
        "print(nb_pos)\r\n"
      ],
      "execution_count": 19,
      "outputs": [
        {
          "output_type": "stream",
          "text": [
            "14652\n",
            "14652\n",
            "45\n"
          ],
          "name": "stdout"
        }
      ]
    },
    {
      "cell_type": "code",
      "metadata": {
        "colab": {
          "base_uri": "https://localhost:8080/"
        },
        "id": "ZCuEVwXesVSv",
        "outputId": "f4b54693-aeca-45c7-bac7-3a5981602c0a"
      },
      "source": [
        "import gc\r\n",
        "\r\n",
        "def load_glove():\r\n",
        "    EMBEDDING_FILE = 'glove.840B.300d.txt'\r\n",
        "\r\n",
        "    def get_coefs(word, *arr): return word, np.asarray(arr, dtype='float32')\r\n",
        "\r\n",
        "    embeddings_index = dict(get_coefs(*o.split(\" \")) for o in (open(EMBEDDING_FILE)))\r\n",
        "    return embeddings_index\r\n",
        "\r\n",
        "glove_emb = load_glove()\r\n",
        "\r\n",
        "embedding_matrix, nb_words, nb_oov = build_emb_matrix(word_dict, glove_emb)\r\n",
        "print(nb_words, nb_oov)\r\n",
        "del glove_emb\r\n",
        "gc.collect()\r\n"
      ],
      "execution_count": 57,
      "outputs": [
        {
          "output_type": "stream",
          "text": [
            "100%|██████████| 28337/28337 [00:00<00:00, 76142.28it/s]"
          ],
          "name": "stderr"
        },
        {
          "output_type": "stream",
          "text": [
            "29337 3994\n"
          ],
          "name": "stdout"
        },
        {
          "output_type": "stream",
          "text": [
            "\n"
          ],
          "name": "stderr"
        },
        {
          "output_type": "execute_result",
          "data": {
            "text/plain": [
              "34"
            ]
          },
          "metadata": {
            "tags": []
          },
          "execution_count": 57
        }
      ]
    },
    {
      "cell_type": "code",
      "metadata": {
        "colab": {
          "base_uri": "https://localhost:8080/"
        },
        "id": "bW68MMvARClU",
        "outputId": "85b11ed6-33e7-4de6-e885-9d60f24e377d"
      },
      "source": [
        "from sklearn.model_selection import StratifiedKFold,KFold,GroupKFold\r\n",
        "\r\n",
        "n_splits = 5\r\n",
        "# kfold = GroupKFold(n_splits=n_splits)\r\n",
        "split_index = []\r\n",
        "# for train_idx, valid_idx in kfold.split(train, train['AdoptionSpeed'], train['RescuerID']):\r\n",
        "#     split_index.append((train_idx, valid_idx))\r\n",
        "\r\n",
        "kfold = StratifiedKFold(n_splits=n_splits, random_state=1991)\r\n",
        "for train_idx, valid_idx in kfold.split(df, df['AdoptionSpeed']):\r\n",
        "    split_index.append((train_idx, valid_idx))\r\n",
        "print(len(split_index))\r\n",
        "print(split_index)"
      ],
      "execution_count": 58,
      "outputs": [
        {
          "output_type": "stream",
          "text": [
            "5\n",
            "[(array([ 2803,  2805,  2806, ..., 14649, 14650, 14651]), array([   0,    1,    2, ..., 3037, 3087, 3098])), (array([    0,     1,     2, ..., 14649, 14650, 14651]), array([2803, 2805, 2806, ..., 5994, 6048, 6076])), (array([    0,     1,     2, ..., 14649, 14650, 14651]), array([5721, 5735, 5737, ..., 8965, 8970, 8971])), (array([    0,     1,     2, ..., 14649, 14650, 14651]), array([ 8222,  8243,  8279, ..., 11895, 11908, 11910])), (array([    0,     1,     2, ..., 11895, 11908, 11910]), array([11382, 11512, 11523, ..., 14649, 14650, 14651]))]\n"
          ],
          "name": "stdout"
        },
        {
          "output_type": "stream",
          "text": [
            "/usr/local/lib/python3.6/dist-packages/sklearn/model_selection/_split.py:296: FutureWarning: Setting a random_state has no effect since shuffle is False. This will raise an error in 0.24. You should leave random_state to its default (None), or set shuffle=True.\n",
            "  FutureWarning\n"
          ],
          "name": "stderr"
        }
      ]
    },
    {
      "cell_type": "code",
      "metadata": {
        "colab": {
          "base_uri": "https://localhost:8080/"
        },
        "id": "Rkt2EDNzckSU",
        "outputId": "476f46d7-4e7e-410a-c294-0d32c2f84f63"
      },
      "source": [
        "df.columns"
      ],
      "execution_count": 59,
      "outputs": [
        {
          "output_type": "execute_result",
          "data": {
            "text/plain": [
              "Index(['PetID', 'PhotoAmt', 'AdoptionSpeed', 'Description', 'English_desc',\n",
              "       'Chinese_desc', 'e_description_len', 'e_description_word_len',\n",
              "       'e_description_word_unique', 'c_description_len',\n",
              "       'c_description_word_len', 'c_description_word_unique',\n",
              "       'description_len', 'description_word_len'],\n",
              "      dtype='object')"
            ]
          },
          "metadata": {
            "tags": []
          },
          "execution_count": 59
        }
      ]
    },
    {
      "cell_type": "code",
      "metadata": {
        "id": "N60c2Yqdas4I"
      },
      "source": [
        "from keras.preprocessing.text import Tokenizer\r\n",
        "from keras.preprocessing.sequence import pad_sequences\r\n",
        "from keras.utils import to_categorical\r\n",
        "import os\r\n",
        "from keras.models import Sequential\r\n",
        "from keras.layers import Embedding, Flatten, Dense, GRU\r\n",
        "import matplotlib.pyplot as plt\r\n"
      ],
      "execution_count": 60,
      "outputs": []
    },
    {
      "cell_type": "code",
      "metadata": {
        "id": "Rth9ON7pcSXt"
      },
      "source": [
        "AdoptionSpeed = df['AdoptionSpeed']\r\n",
        "labels = to_categorical(AdoptionSpeed)\r\n"
      ],
      "execution_count": 61,
      "outputs": []
    },
    {
      "cell_type": "code",
      "metadata": {
        "colab": {
          "base_uri": "https://localhost:8080/"
        },
        "id": "Wo-ypm1JceGx",
        "outputId": "87d3c834-6ace-4f78-aae0-b9d792a2593a"
      },
      "source": [
        "descriptions = df['English_desc']\r\n",
        "tokenizer = Tokenizer(num_words=1000)\r\n",
        "tokenizer.fit_on_texts(descriptions)\r\n",
        "word_index = tokenizer.word_index\r\n",
        "\r\n",
        "print('Found %s unique tokens' % len(word_index))\r\n",
        "sequences = tokenizer.texts_to_sequences(descriptions)\r\n"
      ],
      "execution_count": 62,
      "outputs": [
        {
          "output_type": "stream",
          "text": [
            "Found 19929 unique tokens\n"
          ],
          "name": "stdout"
        }
      ]
    },
    {
      "cell_type": "code",
      "metadata": {
        "colab": {
          "base_uri": "https://localhost:8080/"
        },
        "id": "G1vmTasucx0d",
        "outputId": "d6a40d02-ec45-4964-fa12-4477e7b74b0f"
      },
      "source": [
        "max_len = 100\r\n",
        "max_words = 10000\r\n",
        "training_sample = 10000\r\n",
        "val_sample = 12000\r\n",
        "padded_sequences = pad_sequences(sequences, maxlen=max_len)\r\n",
        "print(\"Shape of data: \", padded_sequences.shape)\r\n",
        "print(\"Shape of labels: \", labels.shape)\r\n"
      ],
      "execution_count": 63,
      "outputs": [
        {
          "output_type": "stream",
          "text": [
            "Shape of data:  (14652, 100)\n",
            "Shape of labels:  (14652, 5)\n"
          ],
          "name": "stdout"
        }
      ]
    },
    {
      "cell_type": "code",
      "metadata": {
        "id": "FdcYGvurc16x"
      },
      "source": [
        "indices = np.arange(df.shape[0])\r\n",
        "np.random.shuffle(indices)\r\n",
        "padded_sequences = padded_sequences[indices]\r\n",
        "labels = labels[indices]\r\n",
        "\r\n",
        "x_train = padded_sequences[:training_sample]\r\n",
        "y_train = labels[:training_sample]\r\n",
        "x_val = padded_sequences[training_sample: val_sample]\r\n",
        "y_val = labels[training_sample: val_sample]\r\n",
        "x_test = padded_sequences[val_sample: ]\r\n",
        "y_test = labels[val_sample: ]\r\n"
      ],
      "execution_count": 64,
      "outputs": []
    },
    {
      "cell_type": "code",
      "metadata": {
        "colab": {
          "base_uri": "https://localhost:8080/"
        },
        "id": "jzYNhcCOdeDH",
        "outputId": "2c2eadb4-0d54-4250-df2f-e50f2a12bfcb"
      },
      "source": [
        "embeddings_index = {}\r\n",
        "f = open(\"/content/petfinder/glove.6B.300d.txt\")\r\n",
        "for line in f:\r\n",
        "    values = line.split()\r\n",
        "    word = values[0]\r\n",
        "    coefs = np.asarray(values[1:], dtype='float32')\r\n",
        "    embeddings_index[word] = coefs\r\n",
        "f.close()\r\n",
        "print('Found %s word vectors.' % len(embeddings_index))\r\n"
      ],
      "execution_count": 65,
      "outputs": [
        {
          "output_type": "stream",
          "text": [
            "Found 400000 word vectors.\n"
          ],
          "name": "stdout"
        }
      ]
    },
    {
      "cell_type": "code",
      "metadata": {
        "id": "2gnz-oMdqdOD"
      },
      "source": [
        "embedding_dim = 300\r\n",
        "embedding_matrix = np.zeros((max_words, embedding_dim))\r\n",
        "for word, i in word_index.items():\r\n",
        "    if i < max_words:\r\n",
        "        embedding_vector = embeddings_index.get(word)\r\n",
        "        if embedding_vector is not None:\r\n",
        "            embedding_matrix[i] = embedding_vector\r\n"
      ],
      "execution_count": 70,
      "outputs": []
    },
    {
      "cell_type": "code",
      "metadata": {
        "colab": {
          "base_uri": "https://localhost:8080/"
        },
        "id": "Gdd78hUYdFa_",
        "outputId": "2cb24884-e84e-4ade-cb6e-6a32ab8f54e5"
      },
      "source": [
        "embed_size = 300\r\n",
        "model = Sequential()\r\n",
        "model.add(Embedding(max_words, embed_size, input_length=max_len))\r\n",
        "model.add(GRU(64, return_sequences=True))\r\n",
        "model.add(GRU(64))\r\n",
        "model.add(Dense(5, activation=\"softmax\"))\r\n",
        "model.summary()\r\n"
      ],
      "execution_count": 66,
      "outputs": [
        {
          "output_type": "stream",
          "text": [
            "Model: \"sequential_2\"\n",
            "_________________________________________________________________\n",
            "Layer (type)                 Output Shape              Param #   \n",
            "=================================================================\n",
            "embedding_1 (Embedding)      (None, 100, 300)          3000000   \n",
            "_________________________________________________________________\n",
            "gru_2 (GRU)                  (None, 100, 64)           70272     \n",
            "_________________________________________________________________\n",
            "gru_3 (GRU)                  (None, 64)                24960     \n",
            "_________________________________________________________________\n",
            "dense_1 (Dense)              (None, 5)                 325       \n",
            "=================================================================\n",
            "Total params: 3,095,557\n",
            "Trainable params: 3,095,557\n",
            "Non-trainable params: 0\n",
            "_________________________________________________________________\n"
          ],
          "name": "stdout"
        }
      ]
    },
    {
      "cell_type": "code",
      "metadata": {
        "colab": {
          "base_uri": "https://localhost:8080/"
        },
        "id": "jqe2CddsdUt9",
        "outputId": "93c5cbd1-3d41-4038-e962-17f80bc31fa8"
      },
      "source": [
        "embedding_matrix.shape"
      ],
      "execution_count": 67,
      "outputs": [
        {
          "output_type": "execute_result",
          "data": {
            "text/plain": [
              "(29337, 300)"
            ]
          },
          "metadata": {
            "tags": []
          },
          "execution_count": 67
        }
      ]
    },
    {
      "cell_type": "code",
      "metadata": {
        "id": "sXJq1ymgdGr1"
      },
      "source": [
        "model.layers[0].set_weights([embedding_matrix])\r\n",
        "model.layers[0].trainable = False\r\n"
      ],
      "execution_count": 71,
      "outputs": []
    },
    {
      "cell_type": "code",
      "metadata": {
        "colab": {
          "base_uri": "https://localhost:8080/"
        },
        "id": "Gmp5tWgHqitN",
        "outputId": "b19619f4-596e-44c7-fdda-9dcf75017877"
      },
      "source": [
        "model.compile(optimizer='adam', loss='categorical_crossentropy', metrics=['acc'])\r\n",
        "history = model.fit(x_train, y_train,\r\n",
        "    epochs=100,\r\n",
        "    batch_size=256,\r\n",
        "    validation_data=(x_val, y_val))\r\n"
      ],
      "execution_count": 74,
      "outputs": [
        {
          "output_type": "stream",
          "text": [
            "Epoch 1/100\n",
            "40/40 [==============================] - 5s 48ms/step - loss: 0.1194 - acc: 0.9520 - val_loss: 5.1762 - val_acc: 0.3275\n",
            "Epoch 2/100\n",
            "40/40 [==============================] - 1s 27ms/step - loss: 0.1178 - acc: 0.9521 - val_loss: 5.1833 - val_acc: 0.3375\n",
            "Epoch 3/100\n",
            "40/40 [==============================] - 1s 27ms/step - loss: 0.1211 - acc: 0.9520 - val_loss: 5.2163 - val_acc: 0.3325\n",
            "Epoch 4/100\n",
            "40/40 [==============================] - 1s 28ms/step - loss: 0.1013 - acc: 0.9552 - val_loss: 5.2412 - val_acc: 0.3445\n",
            "Epoch 5/100\n",
            "40/40 [==============================] - 1s 28ms/step - loss: 0.1520 - acc: 0.9436 - val_loss: 5.1753 - val_acc: 0.3415\n",
            "Epoch 6/100\n",
            "40/40 [==============================] - 1s 29ms/step - loss: 0.1487 - acc: 0.9430 - val_loss: 5.1439 - val_acc: 0.3305\n",
            "Epoch 7/100\n",
            "40/40 [==============================] - 1s 28ms/step - loss: 0.1553 - acc: 0.9445 - val_loss: 5.1357 - val_acc: 0.3375\n",
            "Epoch 8/100\n",
            "40/40 [==============================] - 1s 27ms/step - loss: 0.1149 - acc: 0.9535 - val_loss: 5.1800 - val_acc: 0.3430\n",
            "Epoch 9/100\n",
            "40/40 [==============================] - 1s 27ms/step - loss: 0.1196 - acc: 0.9539 - val_loss: 5.1513 - val_acc: 0.3315\n",
            "Epoch 10/100\n",
            "40/40 [==============================] - 1s 27ms/step - loss: 0.1251 - acc: 0.9511 - val_loss: 5.1642 - val_acc: 0.3360\n",
            "Epoch 11/100\n",
            "40/40 [==============================] - 1s 27ms/step - loss: 0.0981 - acc: 0.9557 - val_loss: 5.1908 - val_acc: 0.3390\n",
            "Epoch 12/100\n",
            "40/40 [==============================] - 1s 27ms/step - loss: 0.1033 - acc: 0.9548 - val_loss: 5.2674 - val_acc: 0.3385\n",
            "Epoch 13/100\n",
            "40/40 [==============================] - 1s 27ms/step - loss: 0.0967 - acc: 0.9561 - val_loss: 5.2731 - val_acc: 0.3350\n",
            "Epoch 14/100\n",
            "40/40 [==============================] - 1s 27ms/step - loss: 0.0948 - acc: 0.9603 - val_loss: 5.2418 - val_acc: 0.3250\n",
            "Epoch 15/100\n",
            "40/40 [==============================] - 1s 27ms/step - loss: 0.1009 - acc: 0.9568 - val_loss: 5.2788 - val_acc: 0.3320\n",
            "Epoch 16/100\n",
            "40/40 [==============================] - 1s 27ms/step - loss: 0.0987 - acc: 0.9558 - val_loss: 5.3542 - val_acc: 0.3300\n",
            "Epoch 17/100\n",
            "40/40 [==============================] - 1s 27ms/step - loss: 0.0924 - acc: 0.9582 - val_loss: 5.3316 - val_acc: 0.3260\n",
            "Epoch 18/100\n",
            "40/40 [==============================] - 1s 27ms/step - loss: 0.0982 - acc: 0.9544 - val_loss: 5.3778 - val_acc: 0.3260\n",
            "Epoch 19/100\n",
            "40/40 [==============================] - 1s 27ms/step - loss: 0.0956 - acc: 0.9545 - val_loss: 5.3845 - val_acc: 0.3315\n",
            "Epoch 20/100\n",
            "40/40 [==============================] - 1s 27ms/step - loss: 0.0922 - acc: 0.9589 - val_loss: 5.3930 - val_acc: 0.3340\n",
            "Epoch 21/100\n",
            "40/40 [==============================] - 1s 27ms/step - loss: 0.0903 - acc: 0.9590 - val_loss: 5.4167 - val_acc: 0.3340\n",
            "Epoch 22/100\n",
            "40/40 [==============================] - 1s 27ms/step - loss: 0.0962 - acc: 0.9568 - val_loss: 5.4215 - val_acc: 0.3355\n",
            "Epoch 23/100\n",
            "40/40 [==============================] - 1s 27ms/step - loss: 0.0892 - acc: 0.9593 - val_loss: 5.3532 - val_acc: 0.3335\n",
            "Epoch 24/100\n",
            "40/40 [==============================] - 1s 27ms/step - loss: 0.0937 - acc: 0.9568 - val_loss: 5.4645 - val_acc: 0.3240\n",
            "Epoch 25/100\n",
            "40/40 [==============================] - 1s 27ms/step - loss: 0.0981 - acc: 0.9545 - val_loss: 5.4127 - val_acc: 0.3340\n",
            "Epoch 26/100\n",
            "40/40 [==============================] - 1s 27ms/step - loss: 0.1095 - acc: 0.9525 - val_loss: 5.4272 - val_acc: 0.3370\n",
            "Epoch 27/100\n",
            "40/40 [==============================] - 1s 27ms/step - loss: 0.1258 - acc: 0.9441 - val_loss: 5.4071 - val_acc: 0.3265\n",
            "Epoch 28/100\n",
            "40/40 [==============================] - 1s 32ms/step - loss: 0.1317 - acc: 0.9496 - val_loss: 5.3433 - val_acc: 0.3240\n",
            "Epoch 29/100\n",
            "40/40 [==============================] - 1s 27ms/step - loss: 0.1076 - acc: 0.9525 - val_loss: 5.3167 - val_acc: 0.3495\n",
            "Epoch 30/100\n",
            "40/40 [==============================] - 1s 27ms/step - loss: 0.0918 - acc: 0.9591 - val_loss: 5.3785 - val_acc: 0.3360\n",
            "Epoch 31/100\n",
            "40/40 [==============================] - 1s 28ms/step - loss: 0.0897 - acc: 0.9592 - val_loss: 5.4083 - val_acc: 0.3365\n",
            "Epoch 32/100\n",
            "40/40 [==============================] - 1s 27ms/step - loss: 0.0886 - acc: 0.9601 - val_loss: 5.4092 - val_acc: 0.3435\n",
            "Epoch 33/100\n",
            "40/40 [==============================] - 1s 27ms/step - loss: 0.0945 - acc: 0.9572 - val_loss: 5.4354 - val_acc: 0.3385\n",
            "Epoch 34/100\n",
            "40/40 [==============================] - 1s 28ms/step - loss: 0.0965 - acc: 0.9584 - val_loss: 5.4305 - val_acc: 0.3400\n",
            "Epoch 35/100\n",
            "40/40 [==============================] - 1s 27ms/step - loss: 0.1146 - acc: 0.9505 - val_loss: 5.4351 - val_acc: 0.3365\n",
            "Epoch 36/100\n",
            "40/40 [==============================] - 1s 27ms/step - loss: 0.1169 - acc: 0.9467 - val_loss: 5.4857 - val_acc: 0.3320\n",
            "Epoch 37/100\n",
            "40/40 [==============================] - 1s 29ms/step - loss: 0.1011 - acc: 0.9581 - val_loss: 5.4249 - val_acc: 0.3345\n",
            "Epoch 38/100\n",
            "40/40 [==============================] - 1s 27ms/step - loss: 0.0938 - acc: 0.9586 - val_loss: 5.5007 - val_acc: 0.3400\n",
            "Epoch 39/100\n",
            "40/40 [==============================] - 1s 26ms/step - loss: 0.0983 - acc: 0.9579 - val_loss: 5.5661 - val_acc: 0.3330\n",
            "Epoch 40/100\n",
            "40/40 [==============================] - 1s 26ms/step - loss: 0.1432 - acc: 0.9410 - val_loss: 5.4307 - val_acc: 0.3275\n",
            "Epoch 41/100\n",
            "40/40 [==============================] - 1s 26ms/step - loss: 0.1953 - acc: 0.9222 - val_loss: 5.3880 - val_acc: 0.3185\n",
            "Epoch 42/100\n",
            "40/40 [==============================] - 1s 26ms/step - loss: 0.1258 - acc: 0.9478 - val_loss: 5.4442 - val_acc: 0.3320\n",
            "Epoch 43/100\n",
            "40/40 [==============================] - 1s 26ms/step - loss: 0.2021 - acc: 0.9281 - val_loss: 5.3328 - val_acc: 0.3405\n",
            "Epoch 44/100\n",
            "40/40 [==============================] - 1s 26ms/step - loss: 0.1175 - acc: 0.9529 - val_loss: 5.4196 - val_acc: 0.3245\n",
            "Epoch 45/100\n",
            "40/40 [==============================] - 1s 26ms/step - loss: 0.1046 - acc: 0.9566 - val_loss: 5.4911 - val_acc: 0.3325\n",
            "Epoch 46/100\n",
            "40/40 [==============================] - 1s 26ms/step - loss: 0.0885 - acc: 0.9561 - val_loss: 5.5253 - val_acc: 0.3365\n",
            "Epoch 47/100\n",
            "40/40 [==============================] - 1s 27ms/step - loss: 0.0812 - acc: 0.9623 - val_loss: 5.5679 - val_acc: 0.3260\n",
            "Epoch 48/100\n",
            "40/40 [==============================] - 1s 27ms/step - loss: 0.0869 - acc: 0.9605 - val_loss: 5.5873 - val_acc: 0.3320\n",
            "Epoch 49/100\n",
            "40/40 [==============================] - 1s 27ms/step - loss: 0.0866 - acc: 0.9603 - val_loss: 5.5765 - val_acc: 0.3265\n",
            "Epoch 50/100\n",
            "40/40 [==============================] - 1s 27ms/step - loss: 0.0838 - acc: 0.9617 - val_loss: 5.6612 - val_acc: 0.3295\n",
            "Epoch 51/100\n",
            "40/40 [==============================] - 1s 27ms/step - loss: 0.0869 - acc: 0.9591 - val_loss: 5.6404 - val_acc: 0.3290\n",
            "Epoch 52/100\n",
            "40/40 [==============================] - 1s 27ms/step - loss: 0.0812 - acc: 0.9620 - val_loss: 5.6747 - val_acc: 0.3245\n",
            "Epoch 53/100\n",
            "40/40 [==============================] - 1s 27ms/step - loss: 0.0837 - acc: 0.9602 - val_loss: 5.7007 - val_acc: 0.3280\n",
            "Epoch 54/100\n",
            "40/40 [==============================] - 1s 27ms/step - loss: 0.0815 - acc: 0.9630 - val_loss: 5.7091 - val_acc: 0.3285\n",
            "Epoch 55/100\n",
            "40/40 [==============================] - 1s 28ms/step - loss: 0.0799 - acc: 0.9613 - val_loss: 5.7152 - val_acc: 0.3280\n",
            "Epoch 56/100\n",
            "40/40 [==============================] - 1s 28ms/step - loss: 0.0817 - acc: 0.9639 - val_loss: 5.6980 - val_acc: 0.3305\n",
            "Epoch 57/100\n",
            "40/40 [==============================] - 1s 27ms/step - loss: 0.0779 - acc: 0.9609 - val_loss: 5.7113 - val_acc: 0.3345\n",
            "Epoch 58/100\n",
            "40/40 [==============================] - 1s 28ms/step - loss: 0.0915 - acc: 0.9577 - val_loss: 5.6936 - val_acc: 0.3265\n",
            "Epoch 59/100\n",
            "40/40 [==============================] - 1s 27ms/step - loss: 0.0836 - acc: 0.9609 - val_loss: 5.6819 - val_acc: 0.3315\n",
            "Epoch 60/100\n",
            "40/40 [==============================] - 1s 27ms/step - loss: 0.0772 - acc: 0.9618 - val_loss: 5.7490 - val_acc: 0.3225\n",
            "Epoch 61/100\n",
            "40/40 [==============================] - 1s 27ms/step - loss: 0.0845 - acc: 0.9582 - val_loss: 5.7400 - val_acc: 0.3315\n",
            "Epoch 62/100\n",
            "40/40 [==============================] - 1s 27ms/step - loss: 0.0793 - acc: 0.9627 - val_loss: 5.6332 - val_acc: 0.3355\n",
            "Epoch 63/100\n",
            "40/40 [==============================] - 1s 27ms/step - loss: 0.0802 - acc: 0.9627 - val_loss: 5.7261 - val_acc: 0.3265\n",
            "Epoch 64/100\n",
            "40/40 [==============================] - 1s 27ms/step - loss: 0.0821 - acc: 0.9591 - val_loss: 5.6669 - val_acc: 0.3310\n",
            "Epoch 65/100\n",
            "40/40 [==============================] - 1s 27ms/step - loss: 0.0847 - acc: 0.9597 - val_loss: 5.7041 - val_acc: 0.3260\n",
            "Epoch 66/100\n",
            "40/40 [==============================] - 1s 28ms/step - loss: 0.0789 - acc: 0.9634 - val_loss: 5.7299 - val_acc: 0.3250\n",
            "Epoch 67/100\n",
            "40/40 [==============================] - 1s 28ms/step - loss: 0.0775 - acc: 0.9617 - val_loss: 5.7628 - val_acc: 0.3265\n",
            "Epoch 68/100\n",
            "40/40 [==============================] - 1s 28ms/step - loss: 0.0822 - acc: 0.9618 - val_loss: 5.7419 - val_acc: 0.3250\n",
            "Epoch 69/100\n",
            "40/40 [==============================] - 1s 28ms/step - loss: 0.0797 - acc: 0.9614 - val_loss: 5.7733 - val_acc: 0.3310\n",
            "Epoch 70/100\n",
            "40/40 [==============================] - 1s 28ms/step - loss: 0.0728 - acc: 0.9639 - val_loss: 5.7807 - val_acc: 0.3280\n",
            "Epoch 71/100\n",
            "40/40 [==============================] - 1s 27ms/step - loss: 0.0746 - acc: 0.9655 - val_loss: 5.7883 - val_acc: 0.3260\n",
            "Epoch 72/100\n",
            "40/40 [==============================] - 1s 27ms/step - loss: 0.0761 - acc: 0.9597 - val_loss: 5.8320 - val_acc: 0.3265\n",
            "Epoch 73/100\n",
            "40/40 [==============================] - 1s 28ms/step - loss: 0.0741 - acc: 0.9634 - val_loss: 5.8108 - val_acc: 0.3260\n",
            "Epoch 74/100\n",
            "40/40 [==============================] - 1s 29ms/step - loss: 0.0907 - acc: 0.9576 - val_loss: 5.7895 - val_acc: 0.3280\n",
            "Epoch 75/100\n",
            "40/40 [==============================] - 1s 34ms/step - loss: 0.0716 - acc: 0.9662 - val_loss: 5.7928 - val_acc: 0.3275\n",
            "Epoch 76/100\n",
            "40/40 [==============================] - 1s 29ms/step - loss: 0.0736 - acc: 0.9598 - val_loss: 5.8144 - val_acc: 0.3305\n",
            "Epoch 77/100\n",
            "40/40 [==============================] - 1s 28ms/step - loss: 0.0745 - acc: 0.9620 - val_loss: 5.8374 - val_acc: 0.3200\n",
            "Epoch 78/100\n",
            "40/40 [==============================] - 1s 29ms/step - loss: 0.0787 - acc: 0.9627 - val_loss: 5.8304 - val_acc: 0.3345\n",
            "Epoch 79/100\n",
            "40/40 [==============================] - 1s 29ms/step - loss: 0.0925 - acc: 0.9591 - val_loss: 5.8111 - val_acc: 0.3405\n",
            "Epoch 80/100\n",
            "40/40 [==============================] - 1s 28ms/step - loss: 0.1009 - acc: 0.9545 - val_loss: 5.7321 - val_acc: 0.3380\n",
            "Epoch 81/100\n",
            "40/40 [==============================] - 1s 28ms/step - loss: 0.0879 - acc: 0.9586 - val_loss: 5.7610 - val_acc: 0.3170\n",
            "Epoch 82/100\n",
            "40/40 [==============================] - 1s 27ms/step - loss: 0.0896 - acc: 0.9587 - val_loss: 5.8759 - val_acc: 0.3215\n",
            "Epoch 83/100\n",
            "40/40 [==============================] - 1s 27ms/step - loss: 0.0892 - acc: 0.9591 - val_loss: 5.9052 - val_acc: 0.3345\n",
            "Epoch 84/100\n",
            "40/40 [==============================] - 1s 28ms/step - loss: 0.0751 - acc: 0.9639 - val_loss: 5.9068 - val_acc: 0.3260\n",
            "Epoch 85/100\n",
            "40/40 [==============================] - 1s 27ms/step - loss: 0.0756 - acc: 0.9619 - val_loss: 5.8596 - val_acc: 0.3320\n",
            "Epoch 86/100\n",
            "40/40 [==============================] - 1s 29ms/step - loss: 0.0798 - acc: 0.9601 - val_loss: 5.9200 - val_acc: 0.3235\n",
            "Epoch 87/100\n",
            "40/40 [==============================] - 1s 29ms/step - loss: 0.0826 - acc: 0.9600 - val_loss: 5.8601 - val_acc: 0.3235\n",
            "Epoch 88/100\n",
            "40/40 [==============================] - 1s 29ms/step - loss: 0.0785 - acc: 0.9632 - val_loss: 5.9351 - val_acc: 0.3280\n",
            "Epoch 89/100\n",
            "40/40 [==============================] - 1s 30ms/step - loss: 0.1075 - acc: 0.9513 - val_loss: 5.6547 - val_acc: 0.3385\n",
            "Epoch 90/100\n",
            "40/40 [==============================] - 1s 29ms/step - loss: 0.1154 - acc: 0.9522 - val_loss: 5.8038 - val_acc: 0.3415\n",
            "Epoch 91/100\n",
            "40/40 [==============================] - 1s 28ms/step - loss: 0.1282 - acc: 0.9449 - val_loss: 5.8037 - val_acc: 0.3195\n",
            "Epoch 92/100\n",
            "40/40 [==============================] - 1s 28ms/step - loss: 0.1106 - acc: 0.9521 - val_loss: 5.7180 - val_acc: 0.3220\n",
            "Epoch 93/100\n",
            "40/40 [==============================] - 1s 28ms/step - loss: 0.0895 - acc: 0.9595 - val_loss: 5.7341 - val_acc: 0.3220\n",
            "Epoch 94/100\n",
            "40/40 [==============================] - 1s 28ms/step - loss: 0.0860 - acc: 0.9597 - val_loss: 5.8689 - val_acc: 0.3320\n",
            "Epoch 95/100\n",
            "40/40 [==============================] - 1s 28ms/step - loss: 0.0830 - acc: 0.9590 - val_loss: 5.8378 - val_acc: 0.3365\n",
            "Epoch 96/100\n",
            "40/40 [==============================] - 1s 29ms/step - loss: 0.0774 - acc: 0.9655 - val_loss: 5.8712 - val_acc: 0.3265\n",
            "Epoch 97/100\n",
            "40/40 [==============================] - 1s 28ms/step - loss: 0.0744 - acc: 0.9642 - val_loss: 5.8964 - val_acc: 0.3275\n",
            "Epoch 98/100\n",
            "40/40 [==============================] - 1s 28ms/step - loss: 0.0741 - acc: 0.9638 - val_loss: 5.9481 - val_acc: 0.3295\n",
            "Epoch 99/100\n",
            "40/40 [==============================] - 1s 28ms/step - loss: 0.0823 - acc: 0.9594 - val_loss: 5.9244 - val_acc: 0.3260\n",
            "Epoch 100/100\n",
            "40/40 [==============================] - 1s 29ms/step - loss: 0.0724 - acc: 0.9644 - val_loss: 5.9144 - val_acc: 0.3265\n"
          ],
          "name": "stdout"
        }
      ]
    },
    {
      "cell_type": "code",
      "metadata": {
        "colab": {
          "base_uri": "https://localhost:8080/",
          "height": 545
        },
        "id": "JnRusRw8rJib",
        "outputId": "d38e117a-38fd-439e-92b9-335fcd13876e"
      },
      "source": [
        "acc = history.history['acc']\r\n",
        "val_acc = history.history['val_acc']\r\n",
        "loss = history.history['loss']\r\n",
        "val_loss = history.history['val_loss']\r\n",
        "epochs = range(1, len(acc) + 1)\r\n",
        "plt.plot(epochs, acc, 'bo', label='Training acc')\r\n",
        "plt.plot(epochs, val_acc, 'b', label='Validation acc')\r\n",
        "plt.title('Training and validation accuracy')\r\n",
        "plt.legend()\r\n",
        "plt.figure()\r\n",
        "plt.plot(epochs, loss, 'bo', label='Training loss')\r\n",
        "plt.plot(epochs, val_loss, 'b', label='Validation loss')\r\n",
        "plt.title('Training and validation loss')\r\n",
        "plt.legend()\r\n",
        "plt.show()\r\n"
      ],
      "execution_count": 73,
      "outputs": [
        {
          "output_type": "display_data",
          "data": {
            "image/png": "[encoded data removed]",
            "text/plain": [
              "<Figure size 432x288 with 1 Axes>"
            ]
          },
          "metadata": {
            "tags": [],
            "needs_background": "light"
          }
        },
        {
          "output_type": "display_data",
          "data": {
            "image/png": "[encoded data removed]",
            "text/plain": [
              "<Figure size 432x288 with 1 Axes>"
            ]
          },
          "metadata": {
            "tags": [],
            "needs_background": "light"
          }
        }
      ]
    }
  ]
}